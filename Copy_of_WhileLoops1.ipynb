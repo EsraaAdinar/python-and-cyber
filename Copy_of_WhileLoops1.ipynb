{
  "cells": [
    {
      "cell_type": "markdown",
      "metadata": {
        "id": "view-in-github",
        "colab_type": "text"
      },
      "source": [
        "<a href=\"https://colab.research.google.com/github/EsraaAdinar/python-and-cyber/blob/main/Copy_of_WhileLoops1.ipynb\" target=\"_parent\"><img src=\"https://colab.research.google.com/assets/colab-badge.svg\" alt=\"Open In Colab\"/></a>"
      ]
    },
    {
      "cell_type": "markdown",
      "metadata": {
        "id": "Vvcpt-18AqVE"
      },
      "source": [
        "<a href=\"https://colab.research.google.com/github/StefanMeyer7/Python-Fundamentals/blob/main/WhileLoops.ipynb\" target=\"_parent\"><img src=\"https://colab.research.google.com/assets/colab-badge.svg\" alt=\"Open In Colab\"/></a>"
      ]
    },
    {
      "cell_type": "markdown",
      "metadata": {
        "id": "-RnyU5DKRZ-v"
      },
      "source": [
        "# While loops\n",
        "\n",
        "---\n"
      ]
    },
    {
      "cell_type": "markdown",
      "metadata": {
        "id": "n_p4mSIpRbzP"
      },
      "source": [
        "There are many situations when an external event (such as an input from the user or finding an invalid data value) will be the thing that will cause the loop to stop.\n",
        "\n",
        "A while loop allows us to say \"repeat these instructions while something has not yet happened, or repeat these instruction while a particular state exists\"\n",
        "\n",
        "For example, we want to ask a user to enter some positive numbers to be added to a total. They will indicate that there are no more numbers by entering -1.\n",
        "\n"
      ]
    },
    {
      "cell_type": "code",
      "execution_count": null,
      "metadata": {
        "id": "2hJ8FL_sRdN8",
        "colab": {
          "base_uri": "https://localhost:8080/"
        },
        "outputId": "b9e62cf5-2dbc-4578-a917-1be9cd0be13e"
      },
      "outputs": [
        {
          "output_type": "stream",
          "name": "stdout",
          "text": [
            "Enter a number, or type -1 to stop: 7\n",
            "Enter a number, or type -1 to stop: 888888\n",
            "Enter a number, or type -1 to stop: 0\n",
            "Enter a number, or type -1 to stop: 99\n",
            "Enter a number, or type -1 to stop: -1\n",
            "888994\n"
          ]
        }
      ],
      "source": [
        "# initialise a total to 0\n",
        "# read the first number\n",
        "# add the number to the total and keep reading next number and adding to total until -1 entered\n",
        "\n",
        "def running_total():\n",
        "    total = 0\n",
        "    num = int(input(\"Enter a number, or type -1 to stop: \"))\n",
        "    while num != -1:\n",
        "        total = total + num\n",
        "        num = int(input(\"Enter a number, or type -1 to stop: \"))\n",
        "    print(total)\n",
        "\n",
        "running_total()"
      ]
    },
    {
      "cell_type": "markdown",
      "metadata": {
        "id": "sLzDEyHLRfyf"
      },
      "source": [
        "**Another example**\n",
        "\n",
        "We want to take a number from the user and keep dividing it by 2 until the answer is 1 or less, then to print the number of times it was divided. Try it out. If you enter 8 then the answer should be 3, if you enter 6 the answer will also be 3."
      ]
    },
    {
      "cell_type": "code",
      "execution_count": null,
      "metadata": {
        "id": "cBHAFOGjRhvN",
        "colab": {
          "base_uri": "https://localhost:8080/"
        },
        "outputId": "0269a4b0-5c7c-4e87-9aba-520f537090d7"
      },
      "outputs": [
        {
          "output_type": "stream",
          "name": "stdout",
          "text": [
            "Enter a number to be processed8\n",
            "Your number was divided 3 times\n"
          ]
        }
      ],
      "source": [
        "def div_by_two():\n",
        "  num = int(input(\"Enter a number to be processed\"))\n",
        "  number_times_divided = 0\n",
        "  while num > 1:\n",
        "    number_times_divided = number_times_divided + 1\n",
        "    num = num/2\n",
        "  print(\"Your number was divided\", number_times_divided, \"times\")\n",
        "\n",
        "div_by_two()"
      ]
    },
    {
      "cell_type": "markdown",
      "metadata": {
        "id": "TPK2bipvRkFS"
      },
      "source": [
        "*Here are some more examples of use of while loops.*\n",
        "\n",
        "### Ensuring valid input  \n",
        "When reading from the keyboard it is important to ensure that the user only enters valid data. You can do this in a number of ways but a while loop can be used to make the user keep entering data until they enter something that is valid."
      ]
    },
    {
      "cell_type": "code",
      "execution_count": null,
      "metadata": {
        "id": "xPkjgxZERlI1",
        "colab": {
          "base_uri": "https://localhost:8080/"
        },
        "outputId": "b08f8ea8-34b7-4b4a-89ac-03338b5a343d"
      },
      "outputs": [
        {
          "output_type": "stream",
          "name": "stdout",
          "text": [
            "You must type a number above 0\n",
            "Enter a positive number-9\n",
            "You must type a number above 0\n",
            "Enter a positive number5\n",
            "Thank you for typing the number 5\n"
          ]
        }
      ],
      "source": [
        "# read a number from the user\n",
        "# check that the number is a positive integer.  If not, display error messages\n",
        "# keep reading until a positive integer is read\n",
        "\n",
        "def positive_num():\n",
        "  number = -1\n",
        "  while number < 0:\n",
        "    print(\"You must type a number above 0\")\n",
        "    number = int(input(\"Enter a positive number\"))\n",
        "  print(\"Thank you for typing the number\", number)\n",
        "\n",
        "positive_num()"
      ]
    },
    {
      "cell_type": "markdown",
      "metadata": {
        "id": "2dqD95UaRmTn"
      },
      "source": [
        "### Take home points\n",
        "\n",
        "* An algorithm is the method for solving a particular problem (e.g. getting the right sort of number, selecting a message depending on input, calculating a new figure, etc)\n",
        "* A while loop will keep repeating while the given condition is TRUE\n",
        "* As soon as the condition becomes false the loop will stop executing\n",
        "* We use while loops when we don't necessarily know how many times a loop will need to repeat, but we do know under what conditions it does need to repeat."
      ]
    },
    {
      "cell_type": "markdown",
      "metadata": {
        "id": "S1R5GILKRnzw"
      },
      "source": [
        "---\n",
        "### Exercise 1 - get a valid username\n",
        "\n",
        "Write a function called **get_username()** which will:  \n",
        "\n",
        "*  assign the value False to a boolean variable called **valid**  \n",
        "*  start a while loop that will continue to loop while `valid` is False  \n",
        "*  in the loop:  ask the user to enter a **username**,  if the `username` is \"user\" assign the value True to `valid`, otherwise print the message \"Incorrect user name\"   \n",
        "*  after the loop, display the message \"Welcome `username`, you will now be asked to enter your password  \n",
        "\n",
        "Test input:  \n",
        "username   \n",
        "user  \n",
        "\n",
        "Expected output:  \n",
        "Incorrect username  \n",
        "Welcome user you will now be asked to enter your password  "
      ]
    },
    {
      "cell_type": "code",
      "execution_count": null,
      "metadata": {
        "id": "nV0wqIB7Romd",
        "colab": {
          "base_uri": "https://localhost:8080/"
        },
        "outputId": "fa1665d4-5873-448b-9bf7-c7d7f9e1cb0e"
      },
      "outputs": [
        {
          "output_type": "stream",
          "name": "stdout",
          "text": [
            "Enter a user name: esraa\n",
            "Incorrect user name\n",
            "Enter a user name: nori\n",
            "Incorrect user name\n",
            "Enter a user name: goerge\n",
            "Incorrect user name\n",
            "Enter a user name: alex\n",
            "Incorrect user name\n",
            "Enter a user name: user\n",
            "Welcome user you will now be asked to enter your password\n"
          ]
        }
      ],
      "source": [
        "def get_username():\n",
        "  valid=False\n",
        "  while valid==False:\n",
        "    username=input(\"Enter a user name: \")\n",
        "    if username==\"user\":\n",
        "      valid=True\n",
        "    else:\n",
        "      print(\"Incorrect user name\")\n",
        "  print(\"Welcome\",username,\"you will now be asked to enter your password\")\n",
        "get_username()"
      ]
    },
    {
      "cell_type": "markdown",
      "metadata": {
        "id": "FLigZTZVRpiZ"
      },
      "source": [
        "---\n",
        "### Exercise 2 - get a valid passcode  \n",
        "\n",
        "Write a function called **get_passcode()** which will:  \n",
        "\n",
        "*  assign the value False to a boolean variable called **valid**  \n",
        "*  start a while loop that will continue to loop while `valid` is False  \n",
        "*  in the loop:  ask the user to enter a **passcode**, if the `passcode` is \"9876\" assign the value True to `valid`, otherwise print the message \"Incorrect passcode\"  \n",
        "*  after the loop, display the message \"Passcode accepted\"    \n",
        "\n",
        "Test input:  \n",
        "1234   \n",
        "9876  \n",
        "\n",
        "Expected output:  \n",
        "Incorrect passcode  \n",
        "Passcode accepted  "
      ]
    },
    {
      "cell_type": "code",
      "execution_count": null,
      "metadata": {
        "id": "dL0_DtM-RqDw",
        "colab": {
          "base_uri": "https://localhost:8080/"
        },
        "outputId": "06929aed-1a0d-4b88-9bf2-ea99516648c1"
      },
      "outputs": [
        {
          "output_type": "stream",
          "name": "stdout",
          "text": [
            "Enter your passcode: 99999\n",
            "Incorrect passcode\n",
            "Enter your passcode: 0000\n",
            "Incorrect passcode\n",
            "Enter your passcode: 9876\n",
            "Passcode accepted\n"
          ]
        }
      ],
      "source": [
        "def get_passcode():\n",
        "  valid=False\n",
        "  while valid==False:\n",
        "    passcoode=int(input(\"Enter your passcode: \"))\n",
        "    if passcoode==9876:\n",
        "      valid=True\n",
        "    else:\n",
        "      print(\"Incorrect passcode\")\n",
        "  print(\"Passcode accepted\")\n",
        "get_passcode()\n",
        "\n"
      ]
    },
    {
      "cell_type": "markdown",
      "metadata": {
        "id": "YpVWKrZtRrAQ"
      },
      "source": [
        "---\n",
        "### Exercise 3 - single digit input  \n",
        "\n",
        "Write a function called **get_digit()** which will:  \n",
        "\n",
        "*  assign the value False to a boolean variable called **valid_digit**  \n",
        "*  use a while loop to repeatedly ask the user to enter a single digit until the value they enter is less than 10     \n",
        "*  in the loop:  ask the user to enter a **single_digit**, if the `single_digit` is less than 10 assign the value True to `valid`, otherwise print the message \"Not a digit\"  \n",
        "*  after the loop, display the message \"Single digit entered\"    \n",
        "\n",
        "Test input:  \n",
        "10   \n",
        "9  \n",
        "\n",
        "Expected output:  \n",
        "Not a digit  \n",
        "Single digit entered  "
      ]
    },
    {
      "cell_type": "code",
      "execution_count": null,
      "metadata": {
        "id": "6dvYLtX_Rrkl",
        "colab": {
          "base_uri": "https://localhost:8080/"
        },
        "outputId": "270c789f-7711-4f25-ca0c-e00781cf363a"
      },
      "outputs": [
        {
          "output_type": "stream",
          "name": "stdout",
          "text": [
            "Enter a single digit less than 10:22\n",
            "not a single digit.\n",
            "Enter a single digit less than 10:44\n",
            "not a single digit.\n",
            "Enter a single digit less than 10:12\n",
            "not a single digit.\n",
            "Enter a single digit less than 10:1\n",
            "single digit entterd  1\n"
          ]
        }
      ],
      "source": [
        "def get_digit():\n",
        "  valid_digit=False\n",
        "  while valid_digit ==False:\n",
        "    single_digit=int(input(\"Enter a single digit less than 10:\"))\n",
        "    if single_digit<10:\n",
        "      valid_digit =True\n",
        "    else:\n",
        "      print(\"not a single digit.\")\n",
        "  print(\"single digit entterd \",single_digit)\n",
        "get_digit()"
      ]
    },
    {
      "cell_type": "markdown",
      "metadata": {
        "id": "g0F1vz0gRuI9"
      },
      "source": [
        "---\n",
        "### Exercise 4 - positive number input\n",
        "\n",
        "Write a function called **positive_number()** which will:\n",
        "*  ask the user to enter a **number**, the message should indicate that it must be a positive number  \n",
        "*  if `number` is not positive **(ie. less than 1)** show an error message and ask user to re-enter the `number`\n",
        "*  when the `number` is positive, print the `number`\n",
        "\n",
        "Test input:  \n",
        "-1\n",
        "0\n",
        "1\n",
        "\n",
        "Expected output:  \n",
        "It must be a positive number, try again  \n",
        "It must be a positive number, try again  \n",
        "1  "
      ]
    },
    {
      "cell_type": "code",
      "execution_count": null,
      "metadata": {
        "id": "0a6Xjpm_Ru7P",
        "colab": {
          "base_uri": "https://localhost:8080/"
        },
        "outputId": "cbdffd9e-44f2-42c9-8f50-e5f2b8c6959c"
      },
      "outputs": [
        {
          "output_type": "stream",
          "name": "stdout",
          "text": [
            "Enter a positive number:-8\n",
            "It must be a positive number, try again\n",
            "Enter a positive number:0\n",
            "It must be a positive number, try again\n",
            "Enter a positive number:1\n",
            "You enterd: 1\n"
          ]
        }
      ],
      "source": [
        "def positive_number():\n",
        "  valid=False\n",
        "  while valid ==False:\n",
        "    number=int(input(\"Enter a positive number:\"))\n",
        "    if number>0:\n",
        "      valid=True\n",
        "    else:\n",
        "      print(\"It must be a positive number, try again!\")\n",
        "  print(\"You enterd:\",number)\n",
        "positive_number()"
      ]
    },
    {
      "cell_type": "markdown",
      "metadata": {
        "id": "sk3j9oA5RwB3"
      },
      "source": [
        "---\n",
        "### Exercise 5 - getting a number within limits\n",
        "\n",
        "Write a function called **test_limits()** which will:\n",
        "\n",
        "*  ask the user to enter a number between **1 and 31**\n",
        "*  if the number entered is less than 1 or more than 31, display the error message \"Number out of limits\"  \n",
        "*  continue asking the user until a valid input is given\n",
        "*  when a valid number is given, display the message \"Your number was `number`\" and end the program\n",
        "\n",
        "Test input:  \n",
        "40  \n",
        "50  \n",
        "30  \n",
        "\n",
        "Expected output:  \n",
        "Number out of limits  \n",
        "Number out of limits  \n",
        "Your number was 30  \n"
      ]
    },
    {
      "cell_type": "code",
      "execution_count": null,
      "metadata": {
        "id": "B7St8qkNRwlx",
        "colab": {
          "base_uri": "https://localhost:8080/"
        },
        "outputId": "a7b6b777-f23a-461e-a659-d0b0a8d6b87d"
      },
      "outputs": [
        {
          "output_type": "stream",
          "name": "stdout",
          "text": [
            "Enter a number between 1 and 31:45\n",
            "Number oout of limits\n",
            "Enter a number between 1 and 31:77\n",
            "Number oout of limits\n",
            "Enter a number between 1 and 31:11\n",
            "Your number was:  11\n"
          ]
        }
      ],
      "source": [
        "def test_limits():\n",
        "  valid=False\n",
        "  while valid==False:\n",
        "    num=int(input(\"Enter a number between 1 and 31:\"))\n",
        "    if num>=1 and num <32:\n",
        "      valid=True\n",
        "    else:\n",
        "      print(\"Number out of limits\")\n",
        "  print(\"Your number was: \",num)\n",
        "test_limits()"
      ]
    },
    {
      "cell_type": "markdown",
      "metadata": {
        "id": "3UQCE622Rx4G"
      },
      "source": [
        "---\n",
        "### Exercise 6 - getting a number outside range\n",
        "\n",
        "Write a function called **test_outlier()** which will:\n",
        "\n",
        "*  ask the user to enter a **number** that is NOT between 40 and 50  \n",
        "*  if the `number` entered is between 40 and 50 (including both 40 and 50, display the error message \"This is not an outlier\"\n",
        "*  continue asking the user until a valid `number` is given\n",
        "*  when a valid `number` is given, display the message \"You have entered an outlier\" and end the program  \n",
        "\n",
        "Test input:  \n",
        "34  \n",
        "\n",
        "Expected output:  \n",
        "You have entered an outlier  \n",
        "\n",
        "Test input:  \n",
        "44  \n",
        "50  \n",
        "40  \n",
        "34  \n",
        "\n",
        "Expected output:  \n",
        "This is not an outlier  \n",
        "This is not an outlier  \n",
        "This is not an outlier  \n",
        "You have entered an outlier  "
      ]
    },
    {
      "cell_type": "code",
      "execution_count": null,
      "metadata": {
        "id": "o4DfpZjCRyZZ",
        "colab": {
          "base_uri": "https://localhost:8080/"
        },
        "outputId": "34b35d89-1d97-4adc-88f4-2057511d3371"
      },
      "outputs": [
        {
          "output_type": "stream",
          "name": "stdout",
          "text": [
            "Enter a number not between 40 and 50: 40\n",
            "This is not an outlier,try sagain please\n",
            "Enter a number not between 40 and 50: 50\n",
            "This is not an outlier,try sagain please\n",
            "Enter a number not between 40 and 50: 44\n",
            "This is not an outlier,try sagain please\n",
            "Enter a number not between 40 and 50: 39\n",
            "You have enterd an outlier:  39\n"
          ]
        }
      ],
      "source": [
        "def test_outlier():\n",
        "  valid=False\n",
        "  while valid==False:\n",
        "    num=int(input(\"Enter a number not between 40 and 50: \"))\n",
        "    if num <40 or num >50:\n",
        "      valid=True\n",
        "    else:\n",
        "      print(\"This is not an outlier,try sagain please\")\n",
        "  print(\"You have enterd an outlier: \",num)\n",
        "test_outlier()"
      ]
    },
    {
      "cell_type": "markdown",
      "metadata": {
        "id": "w3mUSa2nRz-4"
      },
      "source": [
        "---\n",
        "### Exercise 7 - multiplying a number to be greater than 20,000\n",
        "\n",
        "Write a function called **increase_to_twenty_thousand()** that will:\n",
        "\n",
        "*  ask the user to input a **number**\n",
        "*  multiply given `number` by itself repeatedly, printing its value each time it changes, until the  number has become greater (>) than 20,000\n",
        "\n",
        "Test input:  \n",
        "5\n",
        "\n",
        "Expected output:  \n",
        "5   \n",
        "25  \n",
        "125  \n",
        "625  \n",
        "3125  \n",
        "15625  \n",
        "78125  \n"
      ]
    },
    {
      "cell_type": "code",
      "execution_count": 7,
      "metadata": {
        "id": "JZHN6AWxR0cO",
        "colab": {
          "base_uri": "https://localhost:8080/"
        },
        "outputId": "10de143e-de00-4a52-ded9-ca7a2b5880d5"
      },
      "outputs": [
        {
          "output_type": "stream",
          "name": "stdout",
          "text": [
            "Enter a number: 5\n",
            "5\n",
            "25\n",
            "125\n",
            "625\n",
            "3125\n",
            "15625\n"
          ]
        }
      ],
      "source": [
        "def increase_t0_twenty_thousand():\n",
        "  num=int(input(\"Enter a number: \"))\n",
        "  result=num\n",
        "  while result<=20000:\n",
        "      print(result)\n",
        "      result=result*num\n",
        "\n",
        "increase_t0_twenty_thousand()\n",
        "\n"
      ]
    },
    {
      "cell_type": "markdown",
      "metadata": {
        "id": "ERzOyjTnR1hV"
      },
      "source": [
        "---\n",
        "### Exercise 8 - even and odds\n",
        "\n",
        "Write a function called **get_even_number()** that:\n",
        "\n",
        "*  asks the user to input an even number (divisible by 2)\n",
        "*  if an odd number is given, display message \"That number is odd\"\n",
        "*  once valid input given (even number), display message \"Thanks, that number is even\"\n",
        "\n",
        "Test input:  \n",
        "3  \n",
        "1  \n",
        "2  \n",
        "\n",
        "Expected output:  \n",
        "That number is odd  \n",
        "That number is odd  \n",
        "Thanks, that number is even  \n",
        "\n"
      ]
    },
    {
      "cell_type": "code",
      "execution_count": 7,
      "metadata": {
        "id": "QvNTcmIVR1_J",
        "colab": {
          "base_uri": "https://localhost:8080/"
        },
        "outputId": "b9e1de8a-82eb-4af5-9499-33cbdb75a1e3"
      },
      "outputs": [
        {
          "output_type": "stream",
          "name": "stdout",
          "text": [
            "Enter an even number:11\n",
            "That number is odd.\n",
            "Enter an even number:7\n",
            "That number is odd.\n",
            "Enter an even number:77\n",
            "That number is odd.\n",
            "Enter an even number:6\n",
            "Thank you for entering 6 the number is even\n"
          ]
        }
      ],
      "source": [
        "def get_even_number():\n",
        "  valid=False\n",
        "  while valid==False:\n",
        "    num=int(input(\"Enter an even number:\"))\n",
        "    if num %2 !=0:\n",
        "      print(\"That number is odd.\")\n",
        "    else:\n",
        "      valid=True\n",
        "  print(\"Thank you for entering\",num,\"the number is even\")\n",
        "get_even_number()"
      ]
    },
    {
      "cell_type": "markdown",
      "metadata": {
        "id": "ZCSQdEL4R3FP"
      },
      "source": [
        "### Exercise 9 - menu choice\n",
        "\n",
        "Write a function called **show_special_numbers()** which will:\n",
        "\n",
        "*  display the following menu\n",
        "\n",
        "*What value would you like to see?*\n",
        "\n",
        "1. *Pi*\n",
        "2. *Plank’s constant*\n",
        "3. *E*\n",
        "4. *Square root of 2*\n",
        "5. *Quit the program*\n",
        "\n",
        "*  ask the user to input which value they would like to see by typing a number between 1 - 5\n",
        "*  read and process the choice while the user selects anything other than 5 (Quit the program)\n",
        "\n",
        "To process the choice:  \n",
        "* if the number is 1 - print 3.14159265359\n",
        "* if the number is 2 - print 6.62607004 × 10-34 (in Python this would be written 6.62607004E-34\n",
        "* if the number is 3 - print 2.71828\n",
        "* if the number is 4 - print 1.414\n",
        "* if the number is 5 - print the message (\"Thank you for using this program\")\n",
        "* if the number is anything else - print \"Invalid choice\"\n",
        "\n",
        "The program will print the message associated with the menu choice and will then display the menu again and ask the user to select a choice.  \n",
        "\n",
        "When the user enters 5, the program should stop repeating.\n",
        "\n",
        "Test input:    \n",
        "1  \n",
        "4  \n",
        "6  \n",
        "5  \n",
        "\n",
        "Expected output:    \n",
        "3.14159265359  \n",
        "1.414  \n",
        "Invalid choice  \n",
        "Thank you for using this program  "
      ]
    },
    {
      "cell_type": "code",
      "execution_count": 16,
      "metadata": {
        "id": "kh5XaJ9IR3dF",
        "colab": {
          "base_uri": "https://localhost:8080/"
        },
        "outputId": "21cab7ca-bfd2-4f46-8bd0-3b2e862f5b6e"
      },
      "outputs": [
        {
          "output_type": "stream",
          "name": "stdout",
          "text": [
            "Chose a number from the folowing options:\n",
            "1-Pi\n",
            "2-Plank's constant\n",
            "3-E\n",
            "4-Square root of 2\n",
            "5-Quit the program\n",
            "enter your choice\n",
            "6\n",
            "Invalid choice!\n",
            "Chose a number from the folowing options:\n",
            "1-Pi\n",
            "2-Plank's constant\n",
            "3-E\n",
            "4-Square root of 2\n",
            "5-Quit the program\n",
            "enter your choice\n",
            "2\n",
            "6.62607004 x 10-34\n",
            "Chose a number from the folowing options:\n",
            "1-Pi\n",
            "2-Plank's constant\n",
            "3-E\n",
            "4-Square root of 2\n",
            "5-Quit the program\n",
            "enter your choice\n",
            "3\n",
            "2.71828\n",
            "Chose a number from the folowing options:\n",
            "1-Pi\n",
            "2-Plank's constant\n",
            "3-E\n",
            "4-Square root of 2\n",
            "5-Quit the program\n",
            "enter your choice\n",
            "5\n",
            "Thank you for using this program.\n"
          ]
        }
      ],
      "source": [
        "def show_spicial_number():\n",
        "  valid=False\n",
        "\n",
        "  while valid==False:\n",
        "    print(\"Chose a number from the folowing options:\\n1-Pi\\n2-Plank's constant\\n3-E\\n4-Square root of 2\\n5-Quit the program\")\n",
        "    cho=int(input(\"enter your choice\\n\"))\n",
        "    if cho==1:print(3.14159265359)\n",
        "    elif cho==2:print(\"6.62607004 x 10-34\")\n",
        "    elif cho==3:print(2.71828)\n",
        "    elif cho==4:print(1.414)\n",
        "    elif cho==5:\n",
        "      print(\"Thank you for using this program.\")\n",
        "      valid=True\n",
        "\n",
        "    else:\n",
        "      print(\"Invalid choice!\")\n",
        "\n",
        "show_spicial_number()\n",
        ""
      ]
    },
    {
      "cell_type": "markdown",
      "metadata": {
        "id": "DyPLs0t2R4p8"
      },
      "source": [
        "---\n",
        "### Exercise 10 - Guess the number  \n",
        "\n",
        "Write a function called **guess_number(number)** which will:  \n",
        "\n",
        "Ask the user to guess the number within 6 attempts.  \n",
        "\n",
        "The function will be given a random number (called `number`) and should use a while loop that will continue while the user has not guessed correctly and has had less than 6 attempts (don't forget to set the number of attempts to 0 before the loop and increment it every time a guess is made).  \n",
        "\n",
        "In the loop:  \n",
        "\n",
        "*  ask the user to enter a **guess**  \n",
        "*  if the `guess` is greater than the `number` print \"Too high\", if less than the number print \"Too low\" or if correct print \"You guessed it\"  \n",
        "*  count the `attempt`  \n",
        "\n",
        "After the loop if the maximum attempts has been reached, print \"Too many attempts\"\n",
        "\n",
        "\n"
      ]
    },
    {
      "cell_type": "code",
      "execution_count": 32,
      "metadata": {
        "id": "iVJDZd5pR5Kb",
        "colab": {
          "base_uri": "https://localhost:8080/"
        },
        "outputId": "01fbe933-e7df-4dc9-8e32-9e8d19039e26"
      },
      "outputs": [
        {
          "output_type": "stream",
          "name": "stdout",
          "text": [
            "Enter your guess: 4\n",
            "Too low\n",
            "Enter your guess: 8\n",
            "Too low\n",
            "Enter your guess: 20\n",
            "Too low\n",
            "Enter your guess: 35\n",
            "Too high\n",
            "Enter your guess: 30\n",
            "Too low\n",
            "Enter your guess: 33\n",
            "Too low\n",
            "Too many attempts!BYE!\n"
          ]
        }
      ],
      "source": [
        "from random import randint\n",
        "\n",
        "def guess_number(number):\n",
        "  # add your code below here, remembering to indent\n",
        "  attempt=0\n",
        "  m_attempt=6\n",
        "  while attempt<m_attempt:\n",
        "    guess=int(input(\"Enter your guess: \"))\n",
        "    if guess>number:print(\"Too high\")\n",
        "    elif guess<number:print(\"Too low\")\n",
        "    else:\n",
        "      print(\"You are right the number is : \",guess)\n",
        "      break\n",
        "    attempt+=1\n",
        "  if attempt==m_attempt: print(\"Too many attempts!BYE!\")\n",
        "guess_number(randint(1,50))"
      ]
    }
  ],
  "metadata": {
    "colab": {
      "provenance": [],
      "include_colab_link": true
    },
    "kernelspec": {
      "display_name": "Python 3",
      "name": "python3"
    },
    "language_info": {
      "name": "python"
    }
  },
  "nbformat": 4,
  "nbformat_minor": 0
}