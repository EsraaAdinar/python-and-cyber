{
  "cells": [
    {
      "cell_type": "markdown",
      "metadata": {
        "id": "view-in-github",
        "colab_type": "text"
      },
      "source": [
        "<a href=\"https://colab.research.google.com/github/EsraaAdinar/python-and-cyber/blob/main/Copy_of_PythonDictionaries.ipynb\" target=\"_parent\"><img src=\"https://colab.research.google.com/assets/colab-badge.svg\" alt=\"Open In Colab\"/></a>"
      ]
    },
    {
      "cell_type": "markdown",
      "metadata": {
        "id": "Vvcpt-18AqVE"
      },
      "source": [
        "<a href=\"https://colab.research.google.com/github/StefanMeyer7/Python-Fundamentals/blob/main/PythonDictionaries.ipynb\" target=\"_parent\"><img src=\"https://colab.research.google.com/assets/colab-badge.svg\" alt=\"Open In Colab\"/></a>"
      ]
    },
    {
      "cell_type": "markdown",
      "metadata": {
        "id": "ajVrvblzd9wB"
      },
      "source": [
        "# Dictionaries\n",
        "\n",
        "---\n",
        "\n",
        "A **dictionary** is a collection of dissimilar data stored together in one *record*. Each item of data has a  (or key) that describes its paired value.  \n",
        "\n",
        "Create a dictionary object by declaring the set of keys and values, e.g.:\n",
        "\n",
        "```\n",
        "   transport = {\n",
        "       \"type\":\"bus\",\n",
        "       \"numPassengers\":72,\n",
        "       \"colour\":\"blue\",\n",
        "       \"fuel\":\"diesel\"\n",
        "   }\n",
        "```\n",
        "\n",
        "To access a value in a dictionary, use its key:  \n",
        "\n",
        "```\n",
        "transport[\"type\"] = \"coach\"\n",
        "transport_type = transport[\"type\"]\n",
        "transport_colour = transport[\"colour\"]\n",
        "transport[\"fuel\"] = petrol\n",
        "```\n",
        "\n",
        "To add a new key/value pair to a dictionary, simply assign a value to a new key:  \n",
        "```\n",
        "transport[\"seats\"] = 54\n",
        "```\n",
        "\n",
        "The transport dictionary will now look like this:  \n",
        "```\n",
        "   transport = {\n",
        "       \"type\":\"bus\",\n",
        "       \"numPassengers\":72,\n",
        "       \"colour\":\"blue\",\n",
        "       \"fuel\":\"diesel\",\n",
        "       \"seats\":54\n",
        "   }\n",
        "```\n",
        "\n"
      ]
    },
    {
      "cell_type": "markdown",
      "metadata": {
        "id": "0twREgj8d-8E"
      },
      "source": [
        "---\n",
        "### Exercise 1 - print dictionary\n",
        "\n",
        "Write a function which will:  \n",
        "\n",
        "*  create an empty dictionary for a person (name, age and postcode, with values \"\", 0 and \"\")\n",
        "*  ask the user for name, age and postcode and assign the values to the correct keys in the dictionary  \n",
        "*  print the dictionary\n",
        "\n",
        "Test input:  \n",
        "Jack Jones  \n",
        "16  \n",
        "AB5 3DF  \n",
        "\n",
        "Expected output:  \n",
        "```{'name':'Jack Jones', 'age':16, 'postcode':'AB5 3DF'}```"
      ]
    },
    {
      "cell_type": "code",
      "execution_count": 2,
      "metadata": {
        "id": "xxdFsAVFeAaa",
        "colab": {
          "base_uri": "https://localhost:8080/"
        },
        "outputId": "ab0f6554-9452-4a2f-af82-0937dc5b22f0"
      },
      "outputs": [
        {
          "output_type": "stream",
          "name": "stdout",
          "text": [
            "Enter name: Esraa\n",
            "Enter age: 26\n",
            "Enter postcodeG2 8LL\n",
            "{'name': 'Esraa', 'age': 26, 'postcode': 'G2 8LL'}\n"
          ]
        }
      ],
      "source": [
        "def create_dict():\n",
        "  person={\"name\":\"\",\"age\":0,\"postcode\":\"\"}\n",
        "  person[\"name\"]=input(\"Enter name: \")\n",
        "  person[\"age\"]=int(input(\"Enter age: \"))\n",
        "  person[\"postcode\"]=input(\"Enter postcode\")\n",
        "  print(person)\n",
        "create_dict()"
      ]
    },
    {
      "cell_type": "markdown",
      "metadata": {
        "id": "s2ovh9vReApo"
      },
      "source": [
        "---\n",
        "### Exercise 2 - create a dictionary\n",
        "\n",
        "Write a function that will create two dictionaries,without values:  \n",
        "\n",
        "1.  person (with keys firstname, surname, birthdate, postcode)  \n",
        "2.  car (with key/value pairs as follows:  make - Vauxhall, model - Corsa, engineSize - 1199, fuelType - unleaded, num_doors - 4)  \n",
        "\n",
        "*   ask the user to enter the values for the person dictionary  \n",
        "*   print, on one line, the person's name from the person dictionary and the make of the car from the car dictionary.\n",
        "\n",
        "Test input:  \n",
        "Jack  \n",
        "Jones  \n",
        "2005/02/02    \n",
        "AB5 3DF  \n",
        "\n",
        "Expected output:  \n",
        "Jack Jones Vauxhall"
      ]
    },
    {
      "cell_type": "code",
      "execution_count": 3,
      "metadata": {
        "id": "zwVtULVkeB5F",
        "colab": {
          "base_uri": "https://localhost:8080/"
        },
        "outputId": "b79ec89c-49de-40d1-fdd1-6165bfd03ce1"
      },
      "outputs": [
        {
          "output_type": "stream",
          "name": "stdout",
          "text": [
            "Enter name: Nuri\n",
            "Enter sure name:Godman\n",
            "Enter birthdate:6/2/1985\n",
            "Enter postcodeG2 8LL\n",
            "Nuri Godman Vauxhall\n"
          ]
        }
      ],
      "source": [
        "def two_dic():\n",
        "  person={\"f_name\":\"\",\"surename\":\"\",\"birthday\":\"\",\"postcode\":\"\"}\n",
        "  car={\"make\":\"Vauxhall\", \"model\": \"Corsa\", \"engineSize\": 1199, \"fuelType\" :\"unleaded\", \"num_doors\" : 4}\n",
        "  person[\"f_name\"]=input(\"Enter name: \")\n",
        "  person[\"surename\"]=input(\"Enter sure name:\")\n",
        "  person[\"birthday\"]=input(\"Enter birthdate:\")\n",
        "  person[\"postcode\"]=input(\"Enter postcode\")\n",
        "  print(person[\"f_name\"],person[\"surename\"],car[\"make\"])\n",
        "two_dic()\n"
      ]
    },
    {
      "cell_type": "markdown",
      "metadata": {
        "id": "Juu-ivg0eDS5"
      },
      "source": [
        "---\n",
        "### Exercise 3 - check dictionary values\n",
        "\n",
        "Write a new function which will:\n",
        "\n",
        "*  set up the same two dictionaries as in Exercise 2  \n",
        "*  ask the user to enter the details to complete the person record  \n",
        "*  calculate the person's age  \n",
        "*  if the person is under 17 then print a message to say that they can't buy a car as they are too young to drive\n",
        "*  else if the person is under 25 then print a message to say that an engine size under 1200 is recommended  \n",
        "*  ask the user to enter the make of car that the person is looking for  \n",
        "*  if the user enters the same make as that stored in the car record, then print a message to say that you have one car of that make in stock and print all the details of the car that you have the record for\n",
        "*  else (if the user enters any other car make) then print a message to say sorry that you don't have any cars of that make in stock\n",
        "*  print a message to say that the user can get more details for stockist in the <user's postcode> area if they call 01234567890\n",
        "*  print a message to say \"Thank you <user's name> for using our site\"  \n",
        "\n",
        "Test input:  \n",
        "Jack  \n",
        "Jones  \n",
        "2005/02/02  \n",
        "AB5 3DF  \n",
        "Vauxhall  \n",
        "\n",
        "Expected output:  \n",
        "You are too young to drive\n",
        "\n",
        "Test input:  \n",
        "John  \n",
        "Jones  \n",
        "2003/02/02  \n",
        "AB5 3DF  \n",
        "Vauxhall\n",
        "\n",
        "Expected output:  \n",
        "An engine size under 1200 is recommended  \n",
        "We have one Vauxhall in stock, details:  \n",
        "Make - Vauxhall    \n",
        "Model - Corsa    \n",
        "Engine size - 1199  \n",
        "Fuel type - unleaded   \n",
        "Number of doors - 4  \n",
        "You can get more details of stockists near AB5 3DF on 01234567890  \n",
        "Thank you John Jones for using our site.     \n",
        "\n",
        "Test input:  \n",
        "John  \n",
        "Jones  \n",
        "2003/02/02  \n",
        "AB5 3DF  \n",
        "Ford  \n",
        "\n",
        "Expected output:  \n",
        "An engine size under 1200 is recommended  \n",
        "Sorry, we don't have any of that make in stock  \n"
      ]
    },
    {
      "cell_type": "code",
      "execution_count": 10,
      "metadata": {
        "id": "IiAIQVvWeDsk",
        "colab": {
          "base_uri": "https://localhost:8080/"
        },
        "outputId": "10c2860d-55b0-4745-82c8-ecc1329910d8"
      },
      "outputs": [
        {
          "output_type": "stream",
          "name": "stdout",
          "text": [
            "Enter name: Nuri\n",
            "Enter sure name:Goodman\n",
            "Enter birthdate:2003-02-06\n",
            "Enter postcodeG2 8LL\n",
            "An engine size under 1200 is recommended for you.\n",
            "Enter the make of the car you are looking for: BMW\n",
            "Sorry , we don't have any cars of the make 'BMW' in stock.\n",
            "You can get more details for stockists in the G2 8LL area if you call 01234567890.\n",
            "Thank you Nuri for using our site.\n"
          ]
        }
      ],
      "source": [
        "def two_dic():\n",
        "  person={\"f_name\":\"\",\"surename\":\"\",\"birthday\":\"\",\"postcode\":\"\"}\n",
        "  car={\"make\":\"Vauxhall\", \"model\": \"Corsa\", \"engineSize\": 1199, \"fuelType\" :\"unleaded\", \"num_doors\" : 4}\n",
        "  person[\"f_name\"]=input(\"Enter name: \")\n",
        "  person[\"surename\"]=input(\"Enter sure name:\")\n",
        "  person[\"birthday\"]=input(\"Enter birthdate:\")\n",
        "  person[\"postcode\"]=input(\"Enter postcode\")\n",
        "  birth_year = int(person[\"birthday\"].split('-')[0])\n",
        "  current_year = 2024\n",
        "  person_age = current_year - birth_year\n",
        "  if person_age <17 :\n",
        "    print(\"You can't buy a car as you are too young to drive!\")\n",
        "  elif person_age<25:\n",
        "     print(\"An engine size under 1200 is recommended for you.\")\n",
        "     desired_make = input(\"Enter the make of the car you are looking for: \")\n",
        "     if desired_make==car[\"make\"]:\n",
        "      print(\"We have one car of that make in stock. Here are the details:\")\n",
        "      print(car)\n",
        "     else:\n",
        "        print(f\"Sorry , we don't have any cars of the make '{desired_make}' in stock.\")\n",
        "        print(f\"You can get more details for stockists in the {person['postcode']} area if you call 01234567890.\")\n",
        "\n",
        "        print(f\"Thank you {person['f_name']} for using our site.\")\n",
        "two_dic()\n",
        "\n"
      ]
    },
    {
      "cell_type": "markdown",
      "metadata": {
        "id": "ctA2qPE3eFRB"
      },
      "source": [
        "---\n",
        "### Exercise 4 - print keys and values\n",
        "\n",
        "Two dictionaries have been created below.  You can print a list of the dictionary's keys using `dictionary_name.keys()` and the values using `dictionary_name.values()`\n",
        "\n",
        "Write a function which will accept a dictionary as a parameter and will:  \n",
        "*  print the dictionary keys as a list   \n",
        "*  print the dictionary values as a list  \n",
        "\n",
        "*Hint*:  you will need to cast the keys as a list (`list(dictionary_name.keys()`)  and do the same for the values.\n",
        "\n",
        "**Expected Output**\n",
        "\n",
        "Input: English  \n",
        "Output:\n",
        "['Andy', 'Angela']  \n",
        "[95, 53]  \n",
        "\n",
        "Input: Maths  \n",
        "Output:  \n",
        "['Andy', 'Angela']  \n",
        "[58, 72]\n",
        "\n",
        "\n",
        "\n"
      ]
    },
    {
      "cell_type": "code",
      "execution_count": 13,
      "metadata": {
        "id": "MJtMND82eGwt",
        "colab": {
          "base_uri": "https://localhost:8080/"
        },
        "outputId": "9412415b-d1f9-4513-dd2d-9b15081560dc"
      },
      "outputs": [
        {
          "output_type": "stream",
          "name": "stdout",
          "text": [
            "Enter the subject:arabic\n",
            "Invalid subject\n",
            "Enter the subject:french\n",
            "Invalid subject\n"
          ]
        }
      ],
      "source": [
        "def display_dictionary(scores):\n",
        "  #  add your code below this line\n",
        "    subject=input(\"Enter the subject:\")\n",
        "    if subject ==\"English\"or subject ==\"english\":\n",
        "      print(list(english_scores.keys()))\n",
        "      print(list(english_scores.values()))\n",
        "    elif subject==\"Math\"or subject==\"math\":\n",
        "      print(list(maths_scores.keys()))\n",
        "      print(list(maths_scores.values()))\n",
        "    else:\n",
        "      print(\"Invalid subject\")\n",
        "\n",
        "\n",
        "\n",
        "\n",
        "english_scores = {'Andy': 95, 'Angela': 53}\n",
        "maths_scores = {'Andy': 58, 'Angela': 72}\n",
        "display_dictionary(english_scores)\n",
        "display_dictionary(maths_scores)"
      ]
    },
    {
      "cell_type": "markdown",
      "metadata": {
        "id": "l21xWlAYeIbD"
      },
      "source": [
        "---\n",
        "### Exercise 5 - add field\n",
        "\n",
        "Write a function which will:\n",
        "\n",
        "*  create a new dictionary called **science_scores** with values of 0 for both Andy and Angela\n",
        "*  update Andy's score for science to 73 and Angela's score to 73   \n",
        "*  create a new key/value pair by adding another learner to the `science_scores`  dictionary (George has a score of 55)    \n",
        "*  print the `science_scores` dictionary to check results  \n",
        "\n",
        "Expected Output\n",
        "\n",
        "{'Andy': 73, 'Angela': 73, 'George': 55}"
      ]
    },
    {
      "cell_type": "code",
      "execution_count": 14,
      "metadata": {
        "id": "yUIyc-AleI1j",
        "colab": {
          "base_uri": "https://localhost:8080/"
        },
        "outputId": "0210754b-c443-4c40-ed91-e087b6bf0f2d"
      },
      "outputs": [
        {
          "output_type": "stream",
          "name": "stdout",
          "text": [
            "Updated dictionry: \n",
            "{'Andy': 73, 'Angela': 73, 'George': 55}\n"
          ]
        }
      ],
      "source": [
        "def dic_science_score():\n",
        "  science_score={'Andy':0,'Angela':0}\n",
        "  science_score[\"Andy\"]=73\n",
        "  science_score[\"Angela\"]=73\n",
        "  science_score[\"George\"]=55\n",
        "  print(\"Updated dictionry: \")\n",
        "  print(science_score)\n",
        "dic_science_score()\n",
        "\n",
        "\n"
      ]
    },
    {
      "cell_type": "markdown",
      "metadata": {
        "id": "WhkZtLjDeJ5D"
      },
      "source": [
        "---\n",
        "### Exercise 6 - loop through keys/value pairs\n",
        "\n",
        "Write a function which will use a *for* loop to print the each key/value pair in the science dictionary (recreate this dictionary in this function)\n",
        "\n",
        "*(Hint: you can iterate through the key/value pairs in the dictionary in the same way as you iterate through a loop (e.g. for record in dictionary) and print the record (which is the key) and its value)*\n",
        "\n",
        "Expected output:  \n",
        "\n",
        "Angela 72  \n",
        "Andy 72  \n",
        "George 55  "
      ]
    },
    {
      "cell_type": "code",
      "execution_count": 6,
      "metadata": {
        "id": "AhW3GnQheKNW",
        "colab": {
          "base_uri": "https://localhost:8080/"
        },
        "outputId": "5dc8b35b-49f7-433b-e213-0ed8f4740598"
      },
      "outputs": [
        {
          "output_type": "stream",
          "name": "stdout",
          "text": [
            "Andy 73\n",
            "Angela 73\n",
            "George 55\n"
          ]
        }
      ],
      "source": [
        "def dic_science_score():\n",
        "  science_score={'Andy':0,'Angela':0}\n",
        "  science_score[\"Andy\"]=73\n",
        "  science_score[\"Angela\"]=73\n",
        "  science_score[\"George\"]=55\n",
        "  for key,value in science_score.items():\n",
        "    print(key,value)\n",
        "dic_science_score()"
      ]
    },
    {
      "cell_type": "markdown",
      "metadata": {
        "id": "RfJnjBoTeLeU"
      },
      "source": [
        "---\n",
        "### Exercise 7 - generate new dictionary  \n",
        "\n",
        "Write a functions which will:\n",
        "*  create a new dictionary where the keys are numbers between 1 and 15 (both included) and the values are square of keys\n",
        "*  print the dictionary\n",
        "\n",
        "Expected output:  \n",
        "{1: 1, 2: 4, 3: 9, 4: 16, 5: 25, 6: 36, 7: 49, 8: 64, 9: 81, 10: 100, 11: 121, 12: 144, 13: 169, 14: 196, 15: 225}"
      ]
    },
    {
      "cell_type": "code",
      "execution_count": 13,
      "metadata": {
        "id": "Zn-pa0rXeLvk",
        "colab": {
          "base_uri": "https://localhost:8080/"
        },
        "outputId": "7a6a35d8-5d08-4231-95c7-3faf15f31cd4"
      },
      "outputs": [
        {
          "output_type": "stream",
          "name": "stdout",
          "text": [
            "{1: 1, 2: 4, 3: 9, 4: 16, 5: 25, 6: 36, 7: 49, 8: 64, 9: 81, 10: 100, 11: 121, 12: 144, 13: 169, 14: 196, 15: 225}\n"
          ]
        }
      ],
      "source": [
        "def dic_num():\n",
        "  num_squers={num: num*num for num in range(1,16)}\n",
        "  print(num_squers)\n",
        "dic_num()"
      ]
    },
    {
      "cell_type": "markdown",
      "metadata": {
        "id": "oehTCZ07eMm_"
      },
      "source": [
        "---\n",
        "### Exercise 8 - colour dictionary  \n",
        "\n",
        "Write a function which will:  \n",
        "*  create a new dictionary record called colour_codes with the values 'red' - '#FF0000', 'green' - '#008000', 'black' - '#000000', 'white' - '#FFFFFF'\n",
        "*  add a new colour code:  'blue' - '#0000FF'    \n",
        "*  remove the colours black and white from the dictionary  \n",
        "\n",
        "*Hint:  there is a list of methods [here](https://www.w3schools.com/python/python_ref_dictionary.asp)*  "
      ]
    },
    {
      "cell_type": "code",
      "execution_count": 16,
      "metadata": {
        "id": "DCJC5Jk2eM5Q",
        "colab": {
          "base_uri": "https://localhost:8080/"
        },
        "outputId": "92486083-a5c1-46f4-c96e-5e05a22f0ab0"
      },
      "outputs": [
        {
          "output_type": "stream",
          "name": "stdout",
          "text": [
            "The colors are{'red': '#FF0000', 'green': '#008000', 'black': '#000000', 'white': '#FFFFFF'}\n",
            "The dictionry after adding blue color:{'red': '#FF0000', 'green': '#008000', 'black': '#000000', 'white': '#FFFFFF', 'blue': '#0000FF'}\n",
            "The last update {'red': '#FF0000', 'green': '#008000', 'blue': '#0000FF'}\n"
          ]
        }
      ],
      "source": [
        "def dict_colors():\n",
        "  dict_color={'red':'#FF0000','green': '#008000','black': '#000000','white':'#FFFFFF'}\n",
        "  print(f\"The colors are{dict_color}\")\n",
        "  dict_color.update({'blue': '#0000FF'})\n",
        "  print(f\"The dictionry after adding blue color:{dict_color}\")\n",
        "  dict_color.pop('black')\n",
        "  dict_color.pop('white')\n",
        "\n",
        "  print(\"The last update\",dict_color)\n",
        "dict_colors()\n",
        "\n"
      ]
    },
    {
      "cell_type": "markdown",
      "metadata": {
        "id": "W1z8ixCzeN8x"
      },
      "source": [
        "---\n",
        "### Exercise 9 - item tuples  \n",
        "\n",
        "Write a function which will:  \n",
        "*  create a new dictionary containing the colour codes for red, green, blue, black and white\n",
        "*  print the key/value pairs of a dictionary as a list of tuples  \n",
        "\n",
        "*Hint:  iterate through colours.items()*"
      ]
    },
    {
      "cell_type": "code",
      "execution_count": 18,
      "metadata": {
        "id": "9fMy4RU_eOdE",
        "colab": {
          "base_uri": "https://localhost:8080/"
        },
        "outputId": "5d0aec02-d141-4b7c-caf7-6f764377e2f6"
      },
      "outputs": [
        {
          "output_type": "stream",
          "name": "stdout",
          "text": [
            "Key/Value pairs as a list of tuples:\n",
            "('red', '#FF0000')\n",
            "('green', '#008000')\n",
            "('black', '#000000')\n",
            "('white', '#FFFFFF')\n",
            "('blue', '#0000FF')\n"
          ]
        }
      ],
      "source": [
        "def dict_colors():\n",
        "  dict_color={'red':'#FF0000','green': '#008000','black': '#000000','white':'#FFFFFF','blue': '#0000FF'}\n",
        "  print(\"Key/Value pairs as a list of tuples:\")\n",
        "  for key, value in dict_color.items():\n",
        "        print((key, value))\n",
        "\n",
        "\n",
        "dict_colors()\n"
      ]
    },
    {
      "cell_type": "markdown",
      "metadata": {
        "id": "gkrOvN9IePku"
      },
      "source": [
        "---\n",
        "### Exercise 10 - check if empty\n",
        "Taken from w3resouce.com  \n",
        "\n",
        "Write a function which will check if a dictionary is empty or not\n",
        "\n",
        "*Hint:  you can use bool(dictionary_name), if the dictionary is empty then bool(dictionary_name will be false)*\n",
        "\n",
        "Test 1 sample data:\n",
        "{}\n",
        "\n",
        "Expected output:\n",
        "Dictionary is empty  \n",
        "\n",
        "Test 2 sample data:  \n",
        "{\"name\":\"Groucho\", \"occupation\":\"comedian\"}\n",
        "\n",
        "Expected output:  \n",
        "Dictionary is not empty"
      ]
    },
    {
      "cell_type": "code",
      "execution_count": 21,
      "metadata": {
        "id": "BulXCFK0eQJ-",
        "colab": {
          "base_uri": "https://localhost:8080/"
        },
        "outputId": "72fc3960-1f97-4922-8850-99ce821e8456"
      },
      "outputs": [
        {
          "output_type": "stream",
          "name": "stdout",
          "text": [
            "Dictionary is empty\n",
            "Dictionary is not empty\n"
          ]
        }
      ],
      "source": [
        "def checkif_empty(dictionary):\n",
        "    if not bool(dictionary):\n",
        "        print(\"Dictionary is empty\")\n",
        "    else:\n",
        "        print(\"Dictionary is not empty\")\n",
        "dic1 = {}\n",
        "checkif_empty(dic1)\n",
        "dic2 = {\"name\": \"Esraa\", \"job\": \"programmer\"}\n",
        "checkif_empty(dic2)"
      ]
    }
  ],
  "metadata": {
    "colab": {
      "provenance": [],
      "include_colab_link": true
    },
    "kernelspec": {
      "display_name": "Python 3",
      "name": "python3"
    },
    "language_info": {
      "name": "python"
    }
  },
  "nbformat": 4,
  "nbformat_minor": 0
}