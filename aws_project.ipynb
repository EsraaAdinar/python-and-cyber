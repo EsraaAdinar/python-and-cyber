{
  "nbformat": 4,
  "nbformat_minor": 0,
  "metadata": {
    "colab": {
      "provenance": [],
      "authorship_tag": "ABX9TyNEo014APA4Fg5wB0p8fqkY",
      "include_colab_link": true
    },
    "kernelspec": {
      "name": "python3",
      "display_name": "Python 3"
    },
    "language_info": {
      "name": "python"
    }
  },
  "cells": [
    {
      "cell_type": "markdown",
      "metadata": {
        "id": "view-in-github",
        "colab_type": "text"
      },
      "source": [
        "<a href=\"https://colab.research.google.com/github/EsraaAdinar/python-and-cyber/blob/main/aws_project.ipynb\" target=\"_parent\"><img src=\"https://colab.research.google.com/assets/colab-badge.svg\" alt=\"Open In Colab\"/></a>"
      ]
    },
    {
      "cell_type": "markdown",
      "source": [
        "# 1-Use Google's API (a set of tools provided by Google) to find a list of schools near the location provided by the user."
      ],
      "metadata": {
        "id": "Oy9-KfWWWQ_6"
      }
    },
    {
      "cell_type": "code",
      "source": [
        "import os\n",
        "from google.colab import output\n",
        "#store the API in envvironment variable and make sure to hide it in the final draft\n",
        "key=input(\"enter key\")\n",
        "os.environ['API_KEY'] = key\n",
        "output.clear()"
      ],
      "metadata": {
        "id": "pWTkWOLK7zCH"
      },
      "execution_count": null,
      "outputs": []
    },
    {
      "cell_type": "code",
      "source": [
        "!pip install boto3"
      ],
      "metadata": {
        "colab": {
          "base_uri": "https://localhost:8080/"
        },
        "id": "GmrEPIcNoyWk",
        "outputId": "b7993643-a552-4e3b-998c-00d4cff926fc"
      },
      "execution_count": 2,
      "outputs": [
        {
          "output_type": "stream",
          "name": "stdout",
          "text": [
            "Collecting boto3\n",
            "  Downloading boto3-1.34.64-py3-none-any.whl (139 kB)\n",
            "\u001b[2K     \u001b[90m━━━━━━━━━━━━━━━━━━━━━━━━━━━━━━━━━━━━━━━━\u001b[0m \u001b[32m139.3/139.3 kB\u001b[0m \u001b[31m950.3 kB/s\u001b[0m eta \u001b[36m0:00:00\u001b[0m\n",
            "\u001b[?25hCollecting botocore<1.35.0,>=1.34.64 (from boto3)\n",
            "  Downloading botocore-1.34.64-py3-none-any.whl (12.0 MB)\n",
            "\u001b[2K     \u001b[90m━━━━━━━━━━━━━━━━━━━━━━━━━━━━━━━━━━━━━━━━\u001b[0m \u001b[32m12.0/12.0 MB\u001b[0m \u001b[31m51.5 MB/s\u001b[0m eta \u001b[36m0:00:00\u001b[0m\n",
            "\u001b[?25hCollecting jmespath<2.0.0,>=0.7.1 (from boto3)\n",
            "  Downloading jmespath-1.0.1-py3-none-any.whl (20 kB)\n",
            "Collecting s3transfer<0.11.0,>=0.10.0 (from boto3)\n",
            "  Downloading s3transfer-0.10.1-py3-none-any.whl (82 kB)\n",
            "\u001b[2K     \u001b[90m━━━━━━━━━━━━━━━━━━━━━━━━━━━━━━━━━━━━━━━━\u001b[0m \u001b[32m82.2/82.2 kB\u001b[0m \u001b[31m8.4 MB/s\u001b[0m eta \u001b[36m0:00:00\u001b[0m\n",
            "\u001b[?25hRequirement already satisfied: python-dateutil<3.0.0,>=2.1 in /usr/local/lib/python3.10/dist-packages (from botocore<1.35.0,>=1.34.64->boto3) (2.8.2)\n",
            "Requirement already satisfied: urllib3!=2.2.0,<3,>=1.25.4 in /usr/local/lib/python3.10/dist-packages (from botocore<1.35.0,>=1.34.64->boto3) (2.0.7)\n",
            "Requirement already satisfied: six>=1.5 in /usr/local/lib/python3.10/dist-packages (from python-dateutil<3.0.0,>=2.1->botocore<1.35.0,>=1.34.64->boto3) (1.16.0)\n",
            "Installing collected packages: jmespath, botocore, s3transfer, boto3\n",
            "Successfully installed boto3-1.34.64 botocore-1.34.64 jmespath-1.0.1 s3transfer-0.10.1\n"
          ]
        }
      ]
    },
    {
      "cell_type": "markdown",
      "source": [
        "# 2-Import the googlemaps library and get a client for accessing the API functions."
      ],
      "metadata": {
        "id": "LPpqUCxb8PCQ"
      }
    },
    {
      "cell_type": "code",
      "source": [
        "!pip install googlemaps\n",
        "import googlemaps\n",
        "\n",
        "gmaps = googlemaps.Client(os.environ.get('API_KEY'))"
      ],
      "metadata": {
        "colab": {
          "base_uri": "https://localhost:8080/"
        },
        "id": "t_oYar_C8XoV",
        "outputId": "50eef5fc-21d1-4b4e-84ca-c3fc25a5abcd"
      },
      "execution_count": 3,
      "outputs": [
        {
          "output_type": "stream",
          "name": "stdout",
          "text": [
            "Collecting googlemaps\n",
            "  Downloading googlemaps-4.10.0.tar.gz (33 kB)\n",
            "  Preparing metadata (setup.py) ... \u001b[?25l\u001b[?25hdone\n",
            "Requirement already satisfied: requests<3.0,>=2.20.0 in /usr/local/lib/python3.10/dist-packages (from googlemaps) (2.31.0)\n",
            "Requirement already satisfied: charset-normalizer<4,>=2 in /usr/local/lib/python3.10/dist-packages (from requests<3.0,>=2.20.0->googlemaps) (3.3.2)\n",
            "Requirement already satisfied: idna<4,>=2.5 in /usr/local/lib/python3.10/dist-packages (from requests<3.0,>=2.20.0->googlemaps) (3.6)\n",
            "Requirement already satisfied: urllib3<3,>=1.21.1 in /usr/local/lib/python3.10/dist-packages (from requests<3.0,>=2.20.0->googlemaps) (2.0.7)\n",
            "Requirement already satisfied: certifi>=2017.4.17 in /usr/local/lib/python3.10/dist-packages (from requests<3.0,>=2.20.0->googlemaps) (2024.2.2)\n",
            "Building wheels for collected packages: googlemaps\n",
            "  Building wheel for googlemaps (setup.py) ... \u001b[?25l\u001b[?25hdone\n",
            "  Created wheel for googlemaps: filename=googlemaps-4.10.0-py3-none-any.whl size=40712 sha256=d2cebdef7579ea178a4ef315fd267c21fb94ded96c8c163dcfdc492dc93c5a12\n",
            "  Stored in directory: /root/.cache/pip/wheels/17/f8/79/999d5d37118fd35d7219ef57933eb9d09886c4c4503a800f84\n",
            "Successfully built googlemaps\n",
            "Installing collected packages: googlemaps\n",
            "Successfully installed googlemaps-4.10.0\n"
          ]
        }
      ]
    },
    {
      "cell_type": "markdown",
      "source": [
        "# 3- Get a list of schools within a radius that is given by the user"
      ],
      "metadata": {
        "id": "kIvhj5nQADhq"
      }
    },
    {
      "cell_type": "code",
      "source": [
        "\n",
        "def get_user_location(latitude=None, longitude=None, radius=None):\n",
        "    try:\n",
        "        #If  latitude, longitude, and radius are not provided, get them from the user\n",
        "        if latitude is None:\n",
        "         latitude = float(input(\"Enter your latitude: \"))\n",
        "        if longitude is None:\n",
        "         longitude = float(input(\"Enter your longitude: \"))\n",
        "        if radius is None:\n",
        "           radius = float(input(\"Enter the radius (in kilometers): \"))\n",
        "           return latitude, longitude, radius\n",
        "        #else:\n",
        "        #  return None\n",
        "\n",
        "    except ValueError as e:\n",
        "       print(f\"Invalid input. Please enter valid numerical values. Error: {e}\")\n",
        "\n"
      ],
      "metadata": {
        "id": "6FRB05kWAUXH"
      },
      "execution_count": 28,
      "outputs": []
    },
    {
      "cell_type": "markdown",
      "source": [
        "# Getting nearby schools from giving locations"
      ],
      "metadata": {
        "id": "Az5injoM4yvp"
      }
    },
    {
      "cell_type": "code",
      "source": [
        "import json\n",
        "import boto3\n",
        "import googlemaps\n",
        "\n",
        "def get_nearby_schools( latitude, longitude, radius):\n",
        "    try:\n",
        "        # Get user location (if not provided as function parameters)\n",
        "        user_location = get_user_location()\n",
        "\n",
        "        if user_location:\n",
        "            latitude, longitude, radius = user_location\n",
        "\n",
        "            # Initialize the Google Maps API client\n",
        "            gmaps = googlemaps.Client(key)\n",
        "\n",
        "            # Perform a Places API text search for schools within the specified radius\n",
        "            places_result = gmaps.places_nearby(\n",
        "                location=(latitude, longitude),\n",
        "                radius=radius * 1000,  # Convert radius to meters\n",
        "                keyword='school',\n",
        "                type='school',\n",
        "            )\n",
        "\n",
        "            # Extract more information for each school\n",
        "            schools_list = []\n",
        "            for place in places_result.get('results', []):\n",
        "                school_info = {\n",
        "                    'Name': place.get('name', ''),\n",
        "                    'Latitude': place['geometry']['location']['lat'],\n",
        "                    'Longitude': place['geometry']['location']['lng'],\n",
        "                    'Radius': radius,\n",
        "                }\n",
        "                schools_list.append(school_info)\n",
        "\n",
        "            # Print the schools in dictionary form\n",
        "            print(\"List of Schools Near User:\")\n",
        "            for school_info in schools_list:\n",
        "               print(school_info)\n",
        "            return schools_list\n",
        "    except Exception as e:\n",
        "        print(f\"Error: {str(e)}\")\n",
        "\n",
        "\n",
        "schools_list = get_nearby_schools(latitude=None, longitude=None, radius=None)\n",
        "\n",
        "\n",
        "print(schools_list)"
      ],
      "metadata": {
        "id": "SUIEnZ3G5B7C",
        "colab": {
          "base_uri": "https://localhost:8080/"
        },
        "outputId": "f0f648ac-9017-475d-a63d-3f36fc438ff5"
      },
      "execution_count": 29,
      "outputs": [
        {
          "output_type": "stream",
          "name": "stdout",
          "text": [
            "Enter your latitude: 55.816555\n",
            "Enter your longitude: -4.309890\n",
            "Enter the radius (in kilometers): 4\n",
            "List of Schools Near User:\n",
            "{'Name': 'Shawlands Primary School', 'Latitude': 55.82952239999999, 'Longitude': -4.2855491, 'Radius': 4.0}\n",
            "{'Name': 'Pollokshields Primary School', 'Latitude': 55.84229389999999, 'Longitude': -4.2747136, 'Radius': 4.0}\n",
            "{'Name': 'Hillington Primary School', 'Latitude': 55.8524158, 'Longitude': -4.3582729, 'Radius': 4.0}\n",
            "{'Name': 'Sandwood Primary School', 'Latitude': 55.8495065, 'Longitude': -4.3621152, 'Radius': 4.0}\n",
            "{'Name': 'Sir John Maxwell School', 'Latitude': 55.8255717, 'Longitude': -4.2970815, 'Radius': 4.0}\n",
            "{'Name': 'Cuthbertson Primary School', 'Latitude': 55.8397751, 'Longitude': -4.2651444, 'Radius': 4.0}\n",
            "{'Name': 'Ibrox Primary School & Nursery Class', 'Latitude': 55.8517114, 'Longitude': -4.3084599, 'Radius': 4.0}\n",
            "{'Name': 'Ashpark Primary School', 'Latitude': 55.8077353, 'Longitude': -4.3329298, 'Radius': 4.0}\n",
            "{'Name': 'Tinto Primary School', 'Latitude': 55.8175865, 'Longitude': -4.292825, 'Radius': 4.0}\n",
            "{'Name': 'Cardonald Primary School', 'Latitude': 55.8422919, 'Longitude': -4.3503377, 'Radius': 4.0}\n",
            "{'Name': 'Mosspark Primary School', 'Latitude': 55.8391122, 'Longitude': -4.3276337, 'Radius': 4.0}\n",
            "{'Name': 'Braidbar Primary School', 'Latitude': 55.8065805, 'Longitude': -4.2837185, 'Radius': 4.0}\n",
            "{'Name': 'Merrylee Primary School', 'Latitude': 55.8166313, 'Longitude': -4.274818199999999, 'Radius': 4.0}\n",
            "{'Name': 'Holy Cross Primary School', 'Latitude': 55.836191, 'Longitude': -4.254701499999999, 'Radius': 4.0}\n",
            "{'Name': 'Giffnock Primary School', 'Latitude': 55.80277239999999, 'Longitude': -4.2937503, 'Radius': 4.0}\n",
            "{'Name': 'Darnley Primary School', 'Latitude': 55.8079233, 'Longitude': -4.33972, 'Radius': 4.0}\n",
            "{'Name': 'Hollybrook Academy', 'Latitude': 55.8368914, 'Longitude': -4.253457, 'Radius': 4.0}\n",
            "{'Name': 'Gowanbank Primary School', 'Latitude': 55.8172089, 'Longitude': -4.363136, 'Radius': 4.0}\n",
            "{'Name': 'Langside Primary School', 'Latitude': 55.8264402, 'Longitude': -4.2820823, 'Radius': 4.0}\n",
            "{'Name': 'Thornliebank Primary School', 'Latitude': 55.8093009, 'Longitude': -4.3143177, 'Radius': 4.0}\n",
            "[{'Name': 'Shawlands Primary School', 'Latitude': 55.82952239999999, 'Longitude': -4.2855491, 'Radius': 4.0}, {'Name': 'Pollokshields Primary School', 'Latitude': 55.84229389999999, 'Longitude': -4.2747136, 'Radius': 4.0}, {'Name': 'Hillington Primary School', 'Latitude': 55.8524158, 'Longitude': -4.3582729, 'Radius': 4.0}, {'Name': 'Sandwood Primary School', 'Latitude': 55.8495065, 'Longitude': -4.3621152, 'Radius': 4.0}, {'Name': 'Sir John Maxwell School', 'Latitude': 55.8255717, 'Longitude': -4.2970815, 'Radius': 4.0}, {'Name': 'Cuthbertson Primary School', 'Latitude': 55.8397751, 'Longitude': -4.2651444, 'Radius': 4.0}, {'Name': 'Ibrox Primary School & Nursery Class', 'Latitude': 55.8517114, 'Longitude': -4.3084599, 'Radius': 4.0}, {'Name': 'Ashpark Primary School', 'Latitude': 55.8077353, 'Longitude': -4.3329298, 'Radius': 4.0}, {'Name': 'Tinto Primary School', 'Latitude': 55.8175865, 'Longitude': -4.292825, 'Radius': 4.0}, {'Name': 'Cardonald Primary School', 'Latitude': 55.8422919, 'Longitude': -4.3503377, 'Radius': 4.0}, {'Name': 'Mosspark Primary School', 'Latitude': 55.8391122, 'Longitude': -4.3276337, 'Radius': 4.0}, {'Name': 'Braidbar Primary School', 'Latitude': 55.8065805, 'Longitude': -4.2837185, 'Radius': 4.0}, {'Name': 'Merrylee Primary School', 'Latitude': 55.8166313, 'Longitude': -4.274818199999999, 'Radius': 4.0}, {'Name': 'Holy Cross Primary School', 'Latitude': 55.836191, 'Longitude': -4.254701499999999, 'Radius': 4.0}, {'Name': 'Giffnock Primary School', 'Latitude': 55.80277239999999, 'Longitude': -4.2937503, 'Radius': 4.0}, {'Name': 'Darnley Primary School', 'Latitude': 55.8079233, 'Longitude': -4.33972, 'Radius': 4.0}, {'Name': 'Hollybrook Academy', 'Latitude': 55.8368914, 'Longitude': -4.253457, 'Radius': 4.0}, {'Name': 'Gowanbank Primary School', 'Latitude': 55.8172089, 'Longitude': -4.363136, 'Radius': 4.0}, {'Name': 'Langside Primary School', 'Latitude': 55.8264402, 'Longitude': -4.2820823, 'Radius': 4.0}, {'Name': 'Thornliebank Primary School', 'Latitude': 55.8093009, 'Longitude': -4.3143177, 'Radius': 4.0}]\n"
          ]
        }
      ]
    },
    {
      "cell_type": "markdown",
      "source": [
        "# set environment virables for keys and bucket"
      ],
      "metadata": {
        "id": "oPGShvP8az_N"
      }
    },
    {
      "cell_type": "code",
      "execution_count": 6,
      "metadata": {
        "id": "0V-74wDUUCiC"
      },
      "outputs": [],
      "source": [
        "import os\n",
        "from IPython.display import clear_output\n",
        "\n",
        "def set_environment_variable_values():\n",
        "  ACCESS_KEY = input(\"Please enter the AWS access key: \")\n",
        "  SECRET_ACCESS_KEY = input(\"Please enter the AWS secret access key: \")\n",
        "  BUCKET_NAME = input(\"Please enter the name of the bucket in S3: \")\n",
        "  os.environ['ACCESS_KEY'] = ACCESS_KEY\n",
        "  os.environ['SECRET_ACCESS_KEY'] = SECRET_ACCESS_KEY\n",
        "  os.environ['BUCKET_NAME'] = BUCKET_NAME\n",
        "  clear_output()\n",
        "  return None\n",
        "\n",
        "set_environment_variable_values()\n"
      ]
    },
    {
      "cell_type": "markdown",
      "source": [
        "# set client connection"
      ],
      "metadata": {
        "id": "qsJyP1bu6yx6"
      }
    },
    {
      "cell_type": "code",
      "source": [
        "import os\n",
        "import json\n",
        "import boto3\n",
        "\n",
        "def get_S3_client():\n",
        "    resource = boto3.client(\n",
        "        \"s3\",\n",
        "        aws_access_key_id=os.environ.get('ACCESS_KEY'),\n",
        "        aws_secret_access_key=os.environ.get('SECRET_ACCESS_KEY')\n",
        "    )\n",
        "    return resource\n",
        "\n",
        "\n",
        "def save_schools_to_s3(schools_list, s3_bucket_name, s3_key):\n",
        "    try:\n",
        "        # Get S3 client\n",
        "        s3_client = get_S3_client()\n",
        "\n",
        "        if schools_list:\n",
        "            # Define CSV file header\n",
        "            csv_header = schools_list[0].keys()\n",
        "\n",
        "            # Convert list of dictionaries to a CSV-formatted string\n",
        "            csv_data = ','.join(csv_header) + '\\n'\n",
        "            csv_data += '\\n'.join(','.join(str(item[key]) for key in csv_header) for item in schools_list)\n",
        "\n",
        "            # Upload CSV file to S3\n",
        "            s3_client.put_object(\n",
        "                Bucket=s3_bucket_name,\n",
        "                Key=s3_key,\n",
        "                Body=csv_data,\n",
        "                ContentType='text/csv'\n",
        "            )\n",
        "\n",
        "            print(\"List of schools saved to S3 at s3.\")\n",
        "        else:\n",
        "            print(\"Error: The list of schools is empty.\")\n",
        "    except Exception as e:\n",
        "        print(f\"Error: {str(e)}\")\n",
        "\n",
        "\n",
        "schools_list = get_nearby_schools(latitude=None, longitude=None, radius=None)\n",
        "s3_bucket_name = 'aws-project-esraa'\n",
        "s3_key = 'schools_list.csv'\n",
        "\n",
        "save_schools_to_s3(schools_list, s3_bucket_name, s3_key)\n"
      ],
      "metadata": {
        "id": "ToRwi3DJG0hx",
        "colab": {
          "base_uri": "https://localhost:8080/"
        },
        "outputId": "f156d83e-62f1-43d1-af4f-bcb4019e043a"
      },
      "execution_count": 30,
      "outputs": [
        {
          "output_type": "stream",
          "name": "stdout",
          "text": [
            "Enter your latitude: 55.816555\n",
            "Enter your longitude: -4.309890\n",
            "Enter the radius (in kilometers): 4\n",
            "List of Schools Near User:\n",
            "{'Name': 'Shawlands Primary School', 'Latitude': 55.82952239999999, 'Longitude': -4.2855491, 'Radius': 4.0}\n",
            "{'Name': 'Pollokshields Primary School', 'Latitude': 55.84229389999999, 'Longitude': -4.2747136, 'Radius': 4.0}\n",
            "{'Name': 'Hillington Primary School', 'Latitude': 55.8524158, 'Longitude': -4.3582729, 'Radius': 4.0}\n",
            "{'Name': 'Sandwood Primary School', 'Latitude': 55.8495065, 'Longitude': -4.3621152, 'Radius': 4.0}\n",
            "{'Name': 'Sir John Maxwell School', 'Latitude': 55.8255717, 'Longitude': -4.2970815, 'Radius': 4.0}\n",
            "{'Name': 'Cuthbertson Primary School', 'Latitude': 55.8397751, 'Longitude': -4.2651444, 'Radius': 4.0}\n",
            "{'Name': 'Ibrox Primary School & Nursery Class', 'Latitude': 55.8517114, 'Longitude': -4.3084599, 'Radius': 4.0}\n",
            "{'Name': 'Ashpark Primary School', 'Latitude': 55.8077353, 'Longitude': -4.3329298, 'Radius': 4.0}\n",
            "{'Name': 'Tinto Primary School', 'Latitude': 55.8175865, 'Longitude': -4.292825, 'Radius': 4.0}\n",
            "{'Name': 'Cardonald Primary School', 'Latitude': 55.8422919, 'Longitude': -4.3503377, 'Radius': 4.0}\n",
            "{'Name': 'Mosspark Primary School', 'Latitude': 55.8391122, 'Longitude': -4.3276337, 'Radius': 4.0}\n",
            "{'Name': 'Braidbar Primary School', 'Latitude': 55.8065805, 'Longitude': -4.2837185, 'Radius': 4.0}\n",
            "{'Name': 'Merrylee Primary School', 'Latitude': 55.8166313, 'Longitude': -4.274818199999999, 'Radius': 4.0}\n",
            "{'Name': 'Holy Cross Primary School', 'Latitude': 55.836191, 'Longitude': -4.254701499999999, 'Radius': 4.0}\n",
            "{'Name': 'Giffnock Primary School', 'Latitude': 55.80277239999999, 'Longitude': -4.2937503, 'Radius': 4.0}\n",
            "{'Name': 'Darnley Primary School', 'Latitude': 55.8079233, 'Longitude': -4.33972, 'Radius': 4.0}\n",
            "{'Name': 'Hollybrook Academy', 'Latitude': 55.8368914, 'Longitude': -4.253457, 'Radius': 4.0}\n",
            "{'Name': 'Gowanbank Primary School', 'Latitude': 55.8172089, 'Longitude': -4.363136, 'Radius': 4.0}\n",
            "{'Name': 'Langside Primary School', 'Latitude': 55.8264402, 'Longitude': -4.2820823, 'Radius': 4.0}\n",
            "{'Name': 'Thornliebank Primary School', 'Latitude': 55.8093009, 'Longitude': -4.3143177, 'Radius': 4.0}\n",
            "List of schools saved to S3 at s3.\n"
          ]
        }
      ]
    },
    {
      "cell_type": "code",
      "source": [
        "def get_file(filename):\n",
        "    try:\n",
        "        # get the file from the bucket\n",
        "        s3_client = get_S3_client()\n",
        "        file_object = s3_client.get_object(Bucket=os.environ.get('BUCKET_NAME'), Key=filename)\n",
        "\n",
        "        # read the data from the file object and decode it from bytes data to string data\n",
        "        data_file = file_object['Body'].read()\n",
        "        return str(data_file.decode(\"utf-8\"))\n",
        "    except Exception as e:\n",
        "        print(f\"Error fetching file '{filename}': {str(e)}\")\n",
        "        return None\n",
        "\n",
        "\n",
        "data = get_file('schools_list.csv')\n",
        "if data:\n",
        "    print(data)\n",
        "else:\n",
        "    print(\"Failed to retrieve data from file.\")\n"
      ],
      "metadata": {
        "colab": {
          "base_uri": "https://localhost:8080/"
        },
        "id": "2wadrcY3aGo2",
        "outputId": "712ec42e-2cb7-4b40-aefb-e8ca79db5d46"
      },
      "execution_count": 31,
      "outputs": [
        {
          "output_type": "stream",
          "name": "stdout",
          "text": [
            "Name,Latitude,Longitude,Radius\n",
            "Shawlands Primary School,55.82952239999999,-4.2855491,4.0\n",
            "Pollokshields Primary School,55.84229389999999,-4.2747136,4.0\n",
            "Hillington Primary School,55.8524158,-4.3582729,4.0\n",
            "Sandwood Primary School,55.8495065,-4.3621152,4.0\n",
            "Sir John Maxwell School,55.8255717,-4.2970815,4.0\n",
            "Cuthbertson Primary School,55.8397751,-4.2651444,4.0\n",
            "Ibrox Primary School & Nursery Class,55.8517114,-4.3084599,4.0\n",
            "Ashpark Primary School,55.8077353,-4.3329298,4.0\n",
            "Tinto Primary School,55.8175865,-4.292825,4.0\n",
            "Cardonald Primary School,55.8422919,-4.3503377,4.0\n",
            "Mosspark Primary School,55.8391122,-4.3276337,4.0\n",
            "Braidbar Primary School,55.8065805,-4.2837185,4.0\n",
            "Merrylee Primary School,55.8166313,-4.274818199999999,4.0\n",
            "Holy Cross Primary School,55.836191,-4.254701499999999,4.0\n",
            "Giffnock Primary School,55.80277239999999,-4.2937503,4.0\n",
            "Darnley Primary School,55.8079233,-4.33972,4.0\n",
            "Hollybrook Academy,55.8368914,-4.253457,4.0\n",
            "Gowanbank Primary School,55.8172089,-4.363136,4.0\n",
            "Langside Primary School,55.8264402,-4.2820823,4.0\n",
            "Thornliebank Primary School,55.8093009,-4.3143177,4.0\n"
          ]
        }
      ]
    },
    {
      "cell_type": "markdown",
      "source": [
        "# 5-Lamda Handler function"
      ],
      "metadata": {
        "id": "PHXdQ3BQM7gk"
      }
    },
    {
      "cell_type": "code",
      "source": [
        "import os\n",
        "import json\n",
        "#from functions import get_S3_client, get_file\n",
        "\n",
        "def lambda_handler(event, context):\n",
        "    try:\n",
        "        request_body = event.get('body', {})\n",
        "        action = request_body.get('data', {}).get('action')\n",
        "        latitude = request_body.get('data', {}).get('latitude')\n",
        "        longitude = request_body.get('data', {}).get('longitude')\n",
        "        radius = request_body.get('data', {}).get('radius')\n",
        "        datalist = request_body.get('data', {}).get('datalist')\n",
        "        csv_filename= request_body.get('data',{}).get('csv_filename')\n",
        "        if \"body\" in event.keys():\n",
        "            request = event[\"body\"]\n",
        "            if type(request) is not dict:\n",
        "                request = json.loads(request)\n",
        "\n",
        "            if request is not None and \"data\" in request.keys():\n",
        "                data = request[\"data\"]\n",
        "                operation = data['action']\n",
        "                if operation == \"store\":\n",
        "                    schools_list = get_nearby_schools(latitude, longitude, radius)\n",
        "                    s3_bucket_name = os.environ.get('BUCKET_NAME')\n",
        "                    s3_key = f'{datalist}.csv'\n",
        "                    save_schools_to_s3(schools_list, s3_bucket_name, s3_key)\n",
        "\n",
        "                    return {\n",
        "                        \"statusCode\": 200,\n",
        "                        \"body\": json.dumps({\"message\": \"School locations retrieved and saved to S3\"})\n",
        "                    }\n",
        "                elif operation == \"get\":\n",
        "                  # csv_filename = data[\"csv_filename\"]\n",
        "                   return_data = get_file(csv_filename)\n",
        "                   return {\n",
        "                        \"statusCode\": 200,\n",
        "                        \"headers\":{\n",
        "                        \"Content-Type\" : \"application/json\",\n",
        "                        \"Access-Control-Allow-Headers\" : \"Content-Type,X-Api-Key\",\n",
        "                        \"Access-Control-Allow-Methods\" : \"POST\",\n",
        "                        \"Access-Control-Allow-Origin\":\"*\"\n",
        "                            },\n",
        "                       \"body\": json.dumps(return_data),\n",
        "                    }\n",
        "                else:\n",
        "                    return {\n",
        "                        \"statusCode\": 400,\n",
        "                        \"body\": json.dumps({\"error\": \"Invalid filter keyword\"})\n",
        "                    }\n",
        "    except Exception as e:\n",
        "        return {\n",
        "            \"statusCode\": 404,\n",
        "            \"headers\": {\n",
        "                \"Content-Type\": \"application/json\",\n",
        "                \"Access-Control-Allow-Headers\": \"Content-Type,X-Api-Key\",\n",
        "                \"Access-Control-Allow-Methods\": \"POST\",\n",
        "                \"Access-Control-Allow-Origin\": \"*\"\n",
        "            },\n",
        "            \"body\": f\"there was an error, {e}\"\n",
        "        }\n"
      ],
      "metadata": {
        "id": "XnbKVJhyNg48"
      },
      "execution_count": 43,
      "outputs": []
    },
    {
      "cell_type": "markdown",
      "source": [
        "# 6-Test Events"
      ],
      "metadata": {
        "id": "LdU4kZ55iPeU"
      }
    },
    {
      "cell_type": "code",
      "source": [
        "## Set up the data\n",
        "request_event = {\n",
        "\n",
        "    \"body\": {\n",
        "        \"data\": {\n",
        "            \"action\":\"get\",\n",
        "            \"csv_filename\": \"schools_list.csv\"\n",
        "        }\n",
        "    }\n",
        "}\n",
        "\n",
        "\n",
        "\n",
        "# Run the lambda_handler with a context of None\n",
        "result = lambda_handler(request_event, None)\n",
        "print(\"Status code is:\", result[\"statusCode\"])\n",
        "print(\"Result is:\", result[\"body\"])"
      ],
      "metadata": {
        "id": "YJxEZHCcSN2L",
        "colab": {
          "base_uri": "https://localhost:8080/"
        },
        "outputId": "0967a2e0-3773-4f36-bc7a-49cb2ac106a5"
      },
      "execution_count": 41,
      "outputs": [
        {
          "output_type": "stream",
          "name": "stdout",
          "text": [
            "Status code is: 200\n",
            "Result is: \"Name,Latitude,Longitude,Radius\\nShawlands Primary School,55.82952239999999,-4.2855491,4.0\\nPollokshields Primary School,55.84229389999999,-4.2747136,4.0\\nHillington Primary School,55.8524158,-4.3582729,4.0\\nSandwood Primary School,55.8495065,-4.3621152,4.0\\nSir John Maxwell School,55.8255717,-4.2970815,4.0\\nCuthbertson Primary School,55.8397751,-4.2651444,4.0\\nIbrox Primary School & Nursery Class,55.8517114,-4.3084599,4.0\\nAshpark Primary School,55.8077353,-4.3329298,4.0\\nTinto Primary School,55.8175865,-4.292825,4.0\\nCardonald Primary School,55.8422919,-4.3503377,4.0\\nMosspark Primary School,55.8391122,-4.3276337,4.0\\nBraidbar Primary School,55.8065805,-4.2837185,4.0\\nMerrylee Primary School,55.8166313,-4.274818199999999,4.0\\nHoly Cross Primary School,55.836191,-4.254701499999999,4.0\\nGiffnock Primary School,55.80277239999999,-4.2937503,4.0\\nDarnley Primary School,55.8079233,-4.33972,4.0\\nHollybrook Academy,55.8368914,-4.253457,4.0\\nGowanbank Primary School,55.8172089,-4.363136,4.0\\nLangside Primary School,55.8264402,-4.2820823,4.0\\nThornliebank Primary School,55.8093009,-4.3143177,4.0\"\n"
          ]
        }
      ]
    },
    {
      "cell_type": "code",
      "source": [
        "request_event = {\n",
        "\n",
        "     \"body\":  {\n",
        "         \"data\": {\n",
        "             \"action\":\"store\",\n",
        "             \"latitude\":99.999999 ,\n",
        "             \"longitude\":99.999999 ,\n",
        "             \"radius\":99,\n",
        "             \"datalist\":\"schools_list\"\n",
        "         }\n",
        "     }\n",
        "}\n",
        "   # Run the lambda_handler with a context of None\n",
        "result = lambda_handler(request_event, None)\n",
        "print(\"Status code is:\", result[\"statusCode\"])\n",
        "print(\"Result is:\", result[\"body\"])"
      ],
      "metadata": {
        "colab": {
          "base_uri": "https://localhost:8080/"
        },
        "id": "5BOcHuSHyvpZ",
        "outputId": "42fc58a5-f04a-4f26-f488-fe30ad286a9f"
      },
      "execution_count": 42,
      "outputs": [
        {
          "output_type": "stream",
          "name": "stdout",
          "text": [
            "List of schools saved to S3 at s3.\n",
            "Status code is: 200\n",
            "Result is: {\"message\": \"School locations retrieved and saved to S3\"}\n"
          ]
        }
      ]
    }
  ]
}