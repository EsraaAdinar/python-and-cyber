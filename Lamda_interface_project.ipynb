{
  "nbformat": 4,
  "nbformat_minor": 0,
  "metadata": {
    "colab": {
      "provenance": [],
      "authorship_tag": "ABX9TyOkG5YDORJTfVxmXee3cw5t",
      "include_colab_link": true
    },
    "kernelspec": {
      "name": "python3",
      "display_name": "Python 3"
    },
    "language_info": {
      "name": "python"
    }
  },
  "cells": [
    {
      "cell_type": "markdown",
      "metadata": {
        "id": "view-in-github",
        "colab_type": "text"
      },
      "source": [
        "<a href=\"https://colab.research.google.com/github/EsraaAdinar/python-and-cyber/blob/main/Lamda_interface_project.ipynb\" target=\"_parent\"><img src=\"https://colab.research.google.com/assets/colab-badge.svg\" alt=\"Open In Colab\"/></a>"
      ]
    },
    {
      "cell_type": "code",
      "source": [
        "!pip install boto3"
      ],
      "metadata": {
        "colab": {
          "base_uri": "https://localhost:8080/"
        },
        "id": "LSOd7gMpZ11A",
        "outputId": "797fa004-97d6-4c01-cd71-1bbf5466b296"
      },
      "execution_count": 1,
      "outputs": [
        {
          "output_type": "stream",
          "name": "stdout",
          "text": [
            "Collecting boto3\n",
            "  Downloading boto3-1.34.71-py3-none-any.whl (139 kB)\n",
            "\u001b[2K     \u001b[90m━━━━━━━━━━━━━━━━━━━━━━━━━━━━━━━━━━━━━━━━\u001b[0m \u001b[32m139.3/139.3 kB\u001b[0m \u001b[31m3.3 MB/s\u001b[0m eta \u001b[36m0:00:00\u001b[0m\n",
            "\u001b[?25hCollecting botocore<1.35.0,>=1.34.71 (from boto3)\n",
            "  Downloading botocore-1.34.71-py3-none-any.whl (12.0 MB)\n",
            "\u001b[2K     \u001b[90m━━━━━━━━━━━━━━━━━━━━━━━━━━━━━━━━━━━━━━━━\u001b[0m \u001b[32m12.0/12.0 MB\u001b[0m \u001b[31m22.6 MB/s\u001b[0m eta \u001b[36m0:00:00\u001b[0m\n",
            "\u001b[?25hCollecting jmespath<2.0.0,>=0.7.1 (from boto3)\n",
            "  Downloading jmespath-1.0.1-py3-none-any.whl (20 kB)\n",
            "Collecting s3transfer<0.11.0,>=0.10.0 (from boto3)\n",
            "  Downloading s3transfer-0.10.1-py3-none-any.whl (82 kB)\n",
            "\u001b[2K     \u001b[90m━━━━━━━━━━━━━━━━━━━━━━━━━━━━━━━━━━━━━━━━\u001b[0m \u001b[32m82.2/82.2 kB\u001b[0m \u001b[31m9.2 MB/s\u001b[0m eta \u001b[36m0:00:00\u001b[0m\n",
            "\u001b[?25hRequirement already satisfied: python-dateutil<3.0.0,>=2.1 in /usr/local/lib/python3.10/dist-packages (from botocore<1.35.0,>=1.34.71->boto3) (2.8.2)\n",
            "Requirement already satisfied: urllib3!=2.2.0,<3,>=1.25.4 in /usr/local/lib/python3.10/dist-packages (from botocore<1.35.0,>=1.34.71->boto3) (2.0.7)\n",
            "Requirement already satisfied: six>=1.5 in /usr/local/lib/python3.10/dist-packages (from python-dateutil<3.0.0,>=2.1->botocore<1.35.0,>=1.34.71->boto3) (1.16.0)\n",
            "Installing collected packages: jmespath, botocore, s3transfer, boto3\n",
            "Successfully installed boto3-1.34.71 botocore-1.34.71 jmespath-1.0.1 s3transfer-0.10.1\n"
          ]
        }
      ]
    },
    {
      "cell_type": "code",
      "source": [
        "import os\n",
        "from IPython.display import clear_output\n",
        "\n",
        "def set_environment_variable_values():\n",
        "  ACCESS_KEY =input(\"Please enter the AWS access key: \")\n",
        "  SECRET_ACCESS_KEY =input(\"Please enter the AWS secret access key: \")\n",
        "  BUCKET_NAME =input(\"Please enter the name of the bucket in S3: \")\n",
        "  os.environ['ACCESS_KEY'] = ACCESS_KEY\n",
        "  os.environ['SECRET_ACCESS_KEY'] = SECRET_ACCESS_KEY\n",
        "  os.environ['BUCKET_NAME'] = BUCKET_NAME\n",
        "  clear_output()\n",
        "  return None\n",
        "\n",
        "set_environment_variable_values()"
      ],
      "metadata": {
        "id": "Ys4ThRZ_aBWH"
      },
      "execution_count": 2,
      "outputs": []
    },
    {
      "cell_type": "code",
      "source": [
        "import os\n",
        "import boto3\n",
        "\n",
        "def get_S3_client():\n",
        "    resource = boto3.client(\n",
        "        \"s3\",\n",
        "        aws_access_key_id=os.environ.get('ACCESS_KEY'),\n",
        "        aws_secret_access_key=os.environ.get('SECRET_ACCESS_KEY')\n",
        "    )\n",
        "    return resource\n"
      ],
      "metadata": {
        "id": "WP7fCv18ZxRd"
      },
      "execution_count": 3,
      "outputs": []
    },
    {
      "cell_type": "markdown",
      "source": [
        "# Get the list of schools from S3\n"
      ],
      "metadata": {
        "id": "-U_xXiA2Zgvj"
      }
    },
    {
      "cell_type": "code",
      "source": [
        "def get_file(filename):\n",
        "    try:\n",
        "        # get the file from the bucket\n",
        "        s3_client = get_S3_client()\n",
        "        file_object = s3_client.get_object(Bucket=os.environ.get('BUCKET_NAME'), Key=filename)\n",
        "\n",
        "        # read the data from the file object and decode it from bytes data to string data\n",
        "        data_file = file_object['Body'].read()\n",
        "        return str(data_file.decode(\"utf-8\"))\n",
        "    except Exception as e:\n",
        "        print(f\"Error fetching file '{filename}': {str(e)}\")\n",
        "        return None\n",
        "\n",
        "\n",
        "data = get_file('schools_list.json')\n",
        "if data:\n",
        "    print(data)\n",
        "\n",
        "else:\n",
        "    print(\"Failed to retrieve data from file.\")\n"
      ],
      "metadata": {
        "id": "745QK-kPZp1R"
      },
      "execution_count": null,
      "outputs": []
    },
    {
      "cell_type": "markdown",
      "source": [
        "# Store list into Lamda"
      ],
      "metadata": {
        "id": "x9ZG_6zpbTNa"
      }
    },
    {
      "cell_type": "code",
      "source": [
        "def save_schools_to_s3(schools_list, s3_bucket_name, s3_key):\n",
        "    try:\n",
        "        # Get S3 client\n",
        "        s3_client = get_S3_client()\n",
        "\n",
        "        if schools_list:\n",
        "             # Convert list of dictionaries to JSON format\n",
        "            json_data = json.dumps(schools_list, indent=2)\n",
        "\n",
        "            # Upload JSON file to S3\n",
        "            s3_client.put_object(\n",
        "                Bucket=s3_bucket_name,\n",
        "                Key=s3_key,\n",
        "                Body=json_data,\n",
        "                ContentType='application/json'\n",
        "            )\n",
        "            print(\"List of schools saved to S3 at s3 as json.\")\n",
        "        else:\n",
        "            print(\"Error: The list of schools is empty.No list saved at S3\")\n",
        "    except Exception as e:\n",
        "        print(f\"Error: {str(e)}\")\n",
        "\n"
      ],
      "metadata": {
        "id": "k1MsyQ5ebYn_"
      },
      "execution_count": 43,
      "outputs": []
    },
    {
      "cell_type": "markdown",
      "source": [
        "# 8-Lamda Function"
      ],
      "metadata": {
        "id": "7BU5qRnZUe48"
      }
    },
    {
      "cell_type": "code",
      "execution_count": 37,
      "metadata": {
        "id": "0ug-PFh4Twq7"
      },
      "outputs": [],
      "source": [
        "import os\n",
        "import json\n",
        "#from functions import get_S3_client, get_file\n",
        "\n",
        "def lambda_handler(event, context):\n",
        "    try:\n",
        "        request_body = event.get('body', {})\n",
        "        action = request_body.get('data', {}).get('action')\n",
        "        latitude = request_body.get('data', {}).get('latitude')\n",
        "        longitude = request_body.get('data', {}).get('longitude')\n",
        "        radius = request_body.get('data', {}).get('radius')\n",
        "        datalist = request_body.get('data', {}).get('datalist')\n",
        "        csv_filename= request_body.get('data',{}).get('csv_filename')\n",
        "\n",
        "        if \"body\" in event.keys():\n",
        "            request = event[\"body\"]\n",
        "            if type(request) is not dict:\n",
        "                request = json.loads(request)\n",
        "\n",
        "            if request is not None and \"data\" in request.keys():\n",
        "                data = request[\"data\"]\n",
        "                operation = data['action']\n",
        "                if operation == \"store\":\n",
        "                    s3_bucket_name = os.environ.get('BUCKET_NAME')\n",
        "                    s3_key = 'school_list.csv'\n",
        "                    save_schools_to_s3(datalist, s3_bucket_name, s3_key)\n",
        "                    return_data=datalist\n",
        "                    return {\n",
        "                        \"statusCode\": 200,\n",
        "                        \"body\": json.dumps(return_data)\n",
        "                    }\n",
        "                elif operation == \"get\":\n",
        "                   return_data = get_file(csv_filename)\n",
        "                   return {\n",
        "                        \"statusCode\": 200,\n",
        "                        \"headers\":{\n",
        "                        \"Content-Type\" : \"application/json\",\n",
        "                        \"Access-Control-Allow-Headers\" : \"Content-Type,X-Api-Key\",\n",
        "                        \"Access-Control-Allow-Methods\" : \"POST\",\n",
        "                        \"Access-Control-Allow-Origin\":\"*\"\n",
        "                            },\n",
        "                       \"body\": json.dumps(return_data),\n",
        "                    }\n",
        "                else:\n",
        "                    return {\n",
        "                        \"statusCode\": 400,\n",
        "                        \"body\": json.dumps({\"error\": \"Invalid filter keyword\"})\n",
        "                    }\n",
        "    except Exception as e:\n",
        "        return {\n",
        "            \"statusCode\": 404,\n",
        "            \"headers\": {\n",
        "                \"Content-Type\": \"application/json\",\n",
        "                \"Access-Control-Allow-Headers\": \"Content-Type,X-Api-Key\",\n",
        "                \"Access-Control-Allow-Methods\": \"POST\",\n",
        "                \"Access-Control-Allow-Origin\": \"*\"\n",
        "            },\n",
        "            \"body\": f\"there was an error, {e}\"\n",
        "        }\n"
      ]
    },
    {
      "cell_type": "markdown",
      "source": [
        "# Test Events"
      ],
      "metadata": {
        "id": "b6TGbbPHUlEd"
      }
    },
    {
      "cell_type": "code",
      "source": [
        "request_event = {\n",
        "\n",
        "     \"body\":  {\n",
        "         \"data\": {\n",
        "             \"action\":\"store\",\n",
        "             \"latitude\":99.99999 ,\n",
        "             \"longitude\":0 ,\n",
        "             \"radius\":10,\n",
        "             \"datalist\":[]\n",
        "         }\n",
        "     }\n",
        "}\n",
        "   # Run the lambda_handler with a context of None\n",
        "result = lambda_handler(request_event, None)\n",
        "print(\"Status code is:\", result[\"statusCode\"])\n",
        "print(\"Result is:\", result[\"body\"])"
      ],
      "metadata": {
        "colab": {
          "base_uri": "https://localhost:8080/"
        },
        "id": "N3GlxvjEVSZA",
        "outputId": "c2bf8a67-5d19-45ce-dde5-296150d97ad2"
      },
      "execution_count": 51,
      "outputs": [
        {
          "output_type": "stream",
          "name": "stdout",
          "text": [
            "Error: The list of schools is empty.No list saved at S3\n",
            "Status code is: 200\n",
            "Result is: []\n"
          ]
        }
      ]
    },
    {
      "cell_type": "code",
      "source": [
        "request_event = {\n",
        "\n",
        "     \"body\":  {\n",
        "         \"data\": {\n",
        "             \"action\":\"store\",\n",
        "             \"latitude\":55.816555  ,\n",
        "             \"longitude\":-4.309890  ,\n",
        "             \"radius\":4,\n",
        "             \"datalist\":[\"Shawlands Primary School\",\n",
        "    \"Holy Cross Primary School\",\n",
        "    \"Sandwood Primary School\",\n",
        "    \"Hillington Primary School\",\n",
        "    \"Our Lady of the Mission Primary School\",\n",
        "    \"Cuthbertson Primary School\",\n",
        "    \"Ashpark Primary School\",\n",
        "    \"Merrylee Primary School\",\n",
        "    \"Cardonald Primary School\",\n",
        "    \"Pollokshields Primary School\",\n",
        "    \"Rosshall Academy\",\n",
        "    \"Hollybrook Academy\",\n",
        "    \"Mosspark Primary School\",\n",
        "    \"Bellahouston Academy\",\n",
        "    \"Crookfur Primary School\",\n",
        "    \"King's Park Primary School\",\n",
        "    \"Craigton Primary School\",\n",
        "    \"King's Park Secondary School\",\n",
        "    \"Our Lady of the Rosary Primary School\",\n",
        "    \"Carolside Primary School\"\n",
        "             ]\n",
        "         }\n",
        "     }\n",
        "}\n",
        "   # Run the lambda_handler with a context of None\n",
        "result = lambda_handler(request_event, None)\n",
        "print(\"Status code is:\", result[\"statusCode\"])\n",
        "print(\"Result is:\", result[\"body\"])"
      ],
      "metadata": {
        "colab": {
          "base_uri": "https://localhost:8080/"
        },
        "id": "_FYg6LcfVf0h",
        "outputId": "2b7229ea-a4d3-4852-e74e-6acfd4b33ca3"
      },
      "execution_count": 44,
      "outputs": [
        {
          "output_type": "stream",
          "name": "stdout",
          "text": [
            "List of schools saved to S3 at s3 as json.\n",
            "Status code is: 200\n",
            "Result is: [\"Shawlands Primary School\", \"Holy Cross Primary School\", \"Sandwood Primary School\", \"Hillington Primary School\", \"Our Lady of the Mission Primary School\", \"Cuthbertson Primary School\", \"Ashpark Primary School\", \"Merrylee Primary School\", \"Cardonald Primary School\", \"Pollokshields Primary School\", \"Rosshall Academy\", \"Hollybrook Academy\", \"Mosspark Primary School\", \"Bellahouston Academy\", \"Crookfur Primary School\", \"King's Park Primary School\", \"Craigton Primary School\", \"King's Park Secondary School\", \"Our Lady of the Rosary Primary School\", \"Carolside Primary School\"]\n"
          ]
        }
      ]
    },
    {
      "cell_type": "code",
      "source": [
        "request_event = {\n",
        "\n",
        "     \"body\":  {\n",
        "         \"data\": {\n",
        "              \"action\": \"store\",\n",
        "              \"latitude\": 87.543255,\n",
        "              \"longitude\": 0.0,\n",
        "              \"radius\": 10.0,\n",
        "              \"datalist\": []\n",
        "         }\n",
        "     }\n",
        "}\n",
        "   # Run the lambda_handler with a context of None\n",
        "result = lambda_handler(request_event, None)\n",
        "print(\"Status code is:\", result[\"statusCode\"])\n",
        "print(\"Result is:\", result[\"body\"])"
      ],
      "metadata": {
        "colab": {
          "base_uri": "https://localhost:8080/"
        },
        "id": "BQMjo35FVsKn",
        "outputId": "b1c2bc99-1cea-4098-ad01-62dbb6e75192"
      },
      "execution_count": 45,
      "outputs": [
        {
          "output_type": "stream",
          "name": "stdout",
          "text": [
            "Error: The list of schools is empty.No list saved at S3\n",
            "Status code is: 200\n",
            "Result is: []\n"
          ]
        }
      ]
    },
    {
      "cell_type": "code",
      "source": [
        "request_event = {\n",
        "\n",
        "     \"body\":  {\n",
        "         \"data\": {\n",
        "\n",
        "         }\n",
        "     }\n",
        "}\n",
        "   # Run the lambda_handler with a context of None\n",
        "result = lambda_handler(request_event, None)\n",
        "print(\"Status code is:\", result[\"statusCode\"])\n",
        "print(\"Result is:\", result[\"body\"])"
      ],
      "metadata": {
        "colab": {
          "base_uri": "https://localhost:8080/"
        },
        "id": "KpUS8-pEVvh1",
        "outputId": "114bc3d4-35c1-4e9d-a88c-a30430809e50"
      },
      "execution_count": 16,
      "outputs": [
        {
          "output_type": "stream",
          "name": "stdout",
          "text": [
            "Status code is: 404\n",
            "Result is: there was an error, 'action'\n"
          ]
        }
      ]
    },
    {
      "cell_type": "code",
      "source": [
        "request_event = {\n",
        "\n",
        "     \"body\":  {\n",
        "         \"data\": {\n",
        "             \"action\":\"give\",\n",
        "             \"latitude\":87.543255 ,\n",
        "             \"longitude\":0  ,\n",
        "             \"radius\":10,\n",
        "             \"datalist\":\"schools_list\"\n",
        "         }\n",
        "     }\n",
        "}\n",
        "   # Run the lambda_handler with a context of None\n",
        "result = lambda_handler(request_event, None)\n",
        "print(\"Status code is:\", result[\"statusCode\"])\n",
        "print(\"Result is:\", result[\"body\"])"
      ],
      "metadata": {
        "colab": {
          "base_uri": "https://localhost:8080/"
        },
        "id": "hO6qASGWV3hd",
        "outputId": "b4c4ac55-0467-4957-8f80-f5ddab7df3fc"
      },
      "execution_count": 17,
      "outputs": [
        {
          "output_type": "stream",
          "name": "stdout",
          "text": [
            "Status code is: 400\n",
            "Result is: {\"error\": \"Invalid filter keyword\"}\n"
          ]
        }
      ]
    },
    {
      "cell_type": "code",
      "source": [
        "## Set up the data\n",
        "request_event = {\n",
        "\n",
        "    \"body\": {\n",
        "        \"data\": {\n",
        "            \"action\":\"get\",\n",
        "            \"csv_filename\": \"schools_list.csv\"\n",
        "        }\n",
        "    }\n",
        "}#get the file inside the lamda function\n",
        "\n",
        "\n",
        "\n",
        "# Run the lambda_handler with a context of None\n",
        "result = lambda_handler(request_event, None)\n",
        "print(\"Status code is:\", result[\"statusCode\"])\n",
        "print(\"Result is:\", result[\"body\"])"
      ],
      "metadata": {
        "colab": {
          "base_uri": "https://localhost:8080/"
        },
        "id": "Vpsatq2VV6n3",
        "outputId": "64ea82a7-ee78-4ec1-cc6b-d69caa1bc12e"
      },
      "execution_count": 49,
      "outputs": [
        {
          "output_type": "stream",
          "name": "stdout",
          "text": [
            "Status code is: 200\n",
            "Result is: \"[\\n  {\\n    \\\"Name\\\": \\\"Shawlands Primary School\\\",\\n    \\\"Latitude\\\": 55.82952239999999,\\n    \\\"Longitude\\\": -4.2855491,\\n    \\\"Radius\\\": 4\\n  },\\n  {\\n    \\\"Name\\\": \\\"Sir John Maxwell School\\\",\\n    \\\"Latitude\\\": 55.8255717,\\n    \\\"Longitude\\\": -4.2970815,\\n    \\\"Radius\\\": 4\\n  },\\n  {\\n    \\\"Name\\\": \\\"Hillington Primary School\\\",\\n    \\\"Latitude\\\": 55.8524158,\\n    \\\"Longitude\\\": -4.3582729,\\n    \\\"Radius\\\": 4\\n  },\\n  {\\n    \\\"Name\\\": \\\"Pollokshields Primary School\\\",\\n    \\\"Latitude\\\": 55.84229389999999,\\n    \\\"Longitude\\\": -4.2747136,\\n    \\\"Radius\\\": 4\\n  },\\n  {\\n    \\\"Name\\\": \\\"Sandwood Primary School\\\",\\n    \\\"Latitude\\\": 55.8495065,\\n    \\\"Longitude\\\": -4.3621152,\\n    \\\"Radius\\\": 4\\n  },\\n  {\\n    \\\"Name\\\": \\\"Cuthbertson Primary School\\\",\\n    \\\"Latitude\\\": 55.8397751,\\n    \\\"Longitude\\\": -4.2651444,\\n    \\\"Radius\\\": 4\\n  },\\n  {\\n    \\\"Name\\\": \\\"Ibrox Primary School & Nursery Class\\\",\\n    \\\"Latitude\\\": 55.8517114,\\n    \\\"Longitude\\\": -4.3084599,\\n    \\\"Radius\\\": 4\\n  },\\n  {\\n    \\\"Name\\\": \\\"Cardonald Primary School\\\",\\n    \\\"Latitude\\\": 55.8422919,\\n    \\\"Longitude\\\": -4.3503377,\\n    \\\"Radius\\\": 4\\n  },\\n  {\\n    \\\"Name\\\": \\\"Ashpark Primary School\\\",\\n    \\\"Latitude\\\": 55.8077353,\\n    \\\"Longitude\\\": -4.3329298,\\n    \\\"Radius\\\": 4\\n  },\\n  {\\n    \\\"Name\\\": \\\"Tinto Primary School\\\",\\n    \\\"Latitude\\\": 55.8175865,\\n    \\\"Longitude\\\": -4.292825,\\n    \\\"Radius\\\": 4\\n  },\\n  {\\n    \\\"Name\\\": \\\"Mosspark Primary School\\\",\\n    \\\"Latitude\\\": 55.8391122,\\n    \\\"Longitude\\\": -4.3276337,\\n    \\\"Radius\\\": 4\\n  },\\n  {\\n    \\\"Name\\\": \\\"Holy Cross Primary School\\\",\\n    \\\"Latitude\\\": 55.836191,\\n    \\\"Longitude\\\": -4.254701499999999,\\n    \\\"Radius\\\": 4\\n  },\\n  {\\n    \\\"Name\\\": \\\"Braidbar Primary School\\\",\\n    \\\"Latitude\\\": 55.8065805,\\n    \\\"Longitude\\\": -4.2837185,\\n    \\\"Radius\\\": 4\\n  },\\n  {\\n    \\\"Name\\\": \\\"Merrylee Primary School\\\",\\n    \\\"Latitude\\\": 55.8166313,\\n    \\\"Longitude\\\": -4.274818199999999,\\n    \\\"Radius\\\": 4\\n  },\\n  {\\n    \\\"Name\\\": \\\"Giffnock Primary School\\\",\\n    \\\"Latitude\\\": 55.80277239999999,\\n    \\\"Longitude\\\": -4.2937503,\\n    \\\"Radius\\\": 4\\n  },\\n  {\\n    \\\"Name\\\": \\\"Darnley Primary School\\\",\\n    \\\"Latitude\\\": 55.8079233,\\n    \\\"Longitude\\\": -4.33972,\\n    \\\"Radius\\\": 4\\n  },\\n  {\\n    \\\"Name\\\": \\\"Langside Primary School\\\",\\n    \\\"Latitude\\\": 55.8264402,\\n    \\\"Longitude\\\": -4.2820823,\\n    \\\"Radius\\\": 4\\n  },\\n  {\\n    \\\"Name\\\": \\\"Hollybrook Academy\\\",\\n    \\\"Latitude\\\": 55.8368914,\\n    \\\"Longitude\\\": -4.253457,\\n    \\\"Radius\\\": 4\\n  },\\n  {\\n    \\\"Name\\\": \\\"Thornliebank Primary School\\\",\\n    \\\"Latitude\\\": 55.8093009,\\n    \\\"Longitude\\\": -4.3143177,\\n    \\\"Radius\\\": 4\\n  },\\n  {\\n    \\\"Name\\\": \\\"Netherlee Primary School\\\",\\n    \\\"Latitude\\\": 55.8020003,\\n    \\\"Longitude\\\": -4.2693468,\\n    \\\"Radius\\\": 4\\n  }\\n]\"\n"
          ]
        }
      ]
    }
  ]
}